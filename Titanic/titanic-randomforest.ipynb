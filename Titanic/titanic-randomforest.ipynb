{
 "cells": [
  {
   "cell_type": "code",
   "execution_count": 1,
   "id": "34aa4f35",
   "metadata": {
    "_cell_guid": "b1076dfc-b9ad-4769-8c92-a6c4dae69d19",
    "_uuid": "8f2839f25d086af736a60e9eeb907d3b93b6e0e5",
    "execution": {
     "iopub.execute_input": "2021-10-26T13:07:22.183669Z",
     "iopub.status.busy": "2021-10-26T13:07:22.182753Z",
     "iopub.status.idle": "2021-10-26T13:07:23.642973Z",
     "shell.execute_reply": "2021-10-26T13:07:23.642103Z",
     "shell.execute_reply.started": "2021-10-26T12:51:46.519244Z"
    },
    "papermill": {
     "duration": 1.523572,
     "end_time": "2021-10-26T13:07:23.643145",
     "exception": false,
     "start_time": "2021-10-26T13:07:22.119573",
     "status": "completed"
    },
    "tags": []
   },
   "outputs": [
    {
     "name": "stdout",
     "output_type": "stream",
     "text": [
      "/kaggle/input/titanic/train.csv\n",
      "/kaggle/input/titanic/test.csv\n",
      "/kaggle/input/titanic/gender_submission.csv\n"
     ]
    }
   ],
   "source": [
    "# This Python 3 environment comes with many helpful analytics libraries installed\n",
    "# It is defined by the kaggle/python Docker image: https://github.com/kaggle/docker-python\n",
    "# For example, here's several helpful packages to load\n",
    "\n",
    "import numpy as np # linear algebra\n",
    "import pandas as pd # data processing, CSV file I/O (e.g. pd.read_csv)\n",
    "\n",
    "# Input data files are available in the read-only \"../input/\" directory\n",
    "# For example, running this (by clicking run or pressing Shift+Enter) will list all files under the input directory\n",
    "\n",
    "import os\n",
    "for dirname, _, filenames in os.walk('/kaggle/input'):\n",
    "    for filename in filenames:\n",
    "        print(os.path.join(dirname, filename))\n",
    "\n",
    "# You can write up to 20GB to the current directory (/kaggle/working/) that gets preserved as output when you create a version using \"Save & Run All\" \n",
    "# You can also write temporary files to /kaggle/temp/, but they won't be saved outside of the current session\n",
    "\n",
    "import seaborn as sns\n",
    "import matplotlib.pyplot as plt\n",
    "\n",
    "from sklearn.model_selection import train_test_split\n",
    "from sklearn.ensemble import RandomForestClassifier\n",
    "from sklearn.model_selection import GridSearchCV \n",
    "import warnings\n",
    "warnings.filterwarnings(\"ignore\") \n",
    "\n",
    "from sklearn.metrics import classification_report\n",
    "from sklearn.model_selection import cross_val_score"
   ]
  },
  {
   "cell_type": "markdown",
   "id": "0214536b",
   "metadata": {
    "papermill": {
     "duration": 0.048104,
     "end_time": "2021-10-26T13:07:23.740290",
     "exception": false,
     "start_time": "2021-10-26T13:07:23.692186",
     "status": "completed"
    },
    "tags": []
   },
   "source": [
    "# Titanic com Árvore de Decisão "
   ]
  },
  {
   "cell_type": "markdown",
   "id": "686333c5",
   "metadata": {
    "papermill": {
     "duration": 0.047568,
     "end_time": "2021-10-26T13:07:23.836511",
     "exception": false,
     "start_time": "2021-10-26T13:07:23.788943",
     "status": "completed"
    },
    "tags": []
   },
   "source": [
    "Datasets utilizados "
   ]
  },
  {
   "cell_type": "code",
   "execution_count": 2,
   "id": "e92cff63",
   "metadata": {
    "execution": {
     "iopub.execute_input": "2021-10-26T13:07:23.936509Z",
     "iopub.status.busy": "2021-10-26T13:07:23.935534Z",
     "iopub.status.idle": "2021-10-26T13:07:23.939658Z",
     "shell.execute_reply": "2021-10-26T13:07:23.940184Z",
     "shell.execute_reply.started": "2021-10-26T12:51:46.536515Z"
    },
    "papermill": {
     "duration": 0.056037,
     "end_time": "2021-10-26T13:07:23.940350",
     "exception": false,
     "start_time": "2021-10-26T13:07:23.884313",
     "status": "completed"
    },
    "tags": []
   },
   "outputs": [],
   "source": [
    "#csv dataset de treinamento\n",
    "train_ = '../input/titanic/train.csv'\n",
    "#csv dataset para teste\n",
    "test_ = '../input/titanic/test.csv'\n",
    "#csv do exemplo de dataset para submissão\n",
    "submission_ = '../input/titanic/gender_submission.csv'"
   ]
  },
  {
   "cell_type": "code",
   "execution_count": 3,
   "id": "a1418d8c",
   "metadata": {
    "execution": {
     "iopub.execute_input": "2021-10-26T13:07:24.105912Z",
     "iopub.status.busy": "2021-10-26T13:07:24.105089Z",
     "iopub.status.idle": "2021-10-26T13:07:24.143728Z",
     "shell.execute_reply": "2021-10-26T13:07:24.144278Z",
     "shell.execute_reply.started": "2021-10-26T12:51:46.547513Z"
    },
    "papermill": {
     "duration": 0.154885,
     "end_time": "2021-10-26T13:07:24.144489",
     "exception": false,
     "start_time": "2021-10-26T13:07:23.989604",
     "status": "completed"
    },
    "tags": []
   },
   "outputs": [],
   "source": [
    "#df treino\n",
    "train_df = pd.read_csv(train_)\n",
    "#df teste\n",
    "test_df = pd.read_csv(test_)\n",
    "#df submissão\n",
    "submission_df = pd.read_csv(submission_)"
   ]
  },
  {
   "cell_type": "code",
   "execution_count": 4,
   "id": "c35d715a",
   "metadata": {
    "execution": {
     "iopub.execute_input": "2021-10-26T13:07:24.245415Z",
     "iopub.status.busy": "2021-10-26T13:07:24.244396Z",
     "iopub.status.idle": "2021-10-26T13:07:24.263906Z",
     "shell.execute_reply": "2021-10-26T13:07:24.264417Z",
     "shell.execute_reply.started": "2021-10-26T12:51:46.579126Z"
    },
    "papermill": {
     "duration": 0.071453,
     "end_time": "2021-10-26T13:07:24.264613",
     "exception": false,
     "start_time": "2021-10-26T13:07:24.193160",
     "status": "completed"
    },
    "tags": []
   },
   "outputs": [
    {
     "data": {
      "text/html": [
       "<div>\n",
       "<style scoped>\n",
       "    .dataframe tbody tr th:only-of-type {\n",
       "        vertical-align: middle;\n",
       "    }\n",
       "\n",
       "    .dataframe tbody tr th {\n",
       "        vertical-align: top;\n",
       "    }\n",
       "\n",
       "    .dataframe thead th {\n",
       "        text-align: right;\n",
       "    }\n",
       "</style>\n",
       "<table border=\"1\" class=\"dataframe\">\n",
       "  <thead>\n",
       "    <tr style=\"text-align: right;\">\n",
       "      <th></th>\n",
       "      <th>PassengerId</th>\n",
       "      <th>Survived</th>\n",
       "    </tr>\n",
       "  </thead>\n",
       "  <tbody>\n",
       "    <tr>\n",
       "      <th>0</th>\n",
       "      <td>892</td>\n",
       "      <td>0</td>\n",
       "    </tr>\n",
       "    <tr>\n",
       "      <th>1</th>\n",
       "      <td>893</td>\n",
       "      <td>1</td>\n",
       "    </tr>\n",
       "    <tr>\n",
       "      <th>2</th>\n",
       "      <td>894</td>\n",
       "      <td>0</td>\n",
       "    </tr>\n",
       "    <tr>\n",
       "      <th>3</th>\n",
       "      <td>895</td>\n",
       "      <td>0</td>\n",
       "    </tr>\n",
       "    <tr>\n",
       "      <th>4</th>\n",
       "      <td>896</td>\n",
       "      <td>1</td>\n",
       "    </tr>\n",
       "    <tr>\n",
       "      <th>...</th>\n",
       "      <td>...</td>\n",
       "      <td>...</td>\n",
       "    </tr>\n",
       "    <tr>\n",
       "      <th>413</th>\n",
       "      <td>1305</td>\n",
       "      <td>0</td>\n",
       "    </tr>\n",
       "    <tr>\n",
       "      <th>414</th>\n",
       "      <td>1306</td>\n",
       "      <td>1</td>\n",
       "    </tr>\n",
       "    <tr>\n",
       "      <th>415</th>\n",
       "      <td>1307</td>\n",
       "      <td>0</td>\n",
       "    </tr>\n",
       "    <tr>\n",
       "      <th>416</th>\n",
       "      <td>1308</td>\n",
       "      <td>0</td>\n",
       "    </tr>\n",
       "    <tr>\n",
       "      <th>417</th>\n",
       "      <td>1309</td>\n",
       "      <td>0</td>\n",
       "    </tr>\n",
       "  </tbody>\n",
       "</table>\n",
       "<p>418 rows × 2 columns</p>\n",
       "</div>"
      ],
      "text/plain": [
       "     PassengerId  Survived\n",
       "0            892         0\n",
       "1            893         1\n",
       "2            894         0\n",
       "3            895         0\n",
       "4            896         1\n",
       "..           ...       ...\n",
       "413         1305         0\n",
       "414         1306         1\n",
       "415         1307         0\n",
       "416         1308         0\n",
       "417         1309         0\n",
       "\n",
       "[418 rows x 2 columns]"
      ]
     },
     "execution_count": 4,
     "metadata": {},
     "output_type": "execute_result"
    }
   ],
   "source": [
    "submission_df"
   ]
  },
  {
   "cell_type": "code",
   "execution_count": 5,
   "id": "24bced0f",
   "metadata": {
    "execution": {
     "iopub.execute_input": "2021-10-26T13:07:24.366178Z",
     "iopub.status.busy": "2021-10-26T13:07:24.365566Z",
     "iopub.status.idle": "2021-10-26T13:07:24.380759Z",
     "shell.execute_reply": "2021-10-26T13:07:24.381249Z",
     "shell.execute_reply.started": "2021-10-26T12:51:46.592922Z"
    },
    "papermill": {
     "duration": 0.068054,
     "end_time": "2021-10-26T13:07:24.381445",
     "exception": false,
     "start_time": "2021-10-26T13:07:24.313391",
     "status": "completed"
    },
    "tags": []
   },
   "outputs": [
    {
     "data": {
      "text/html": [
       "<div>\n",
       "<style scoped>\n",
       "    .dataframe tbody tr th:only-of-type {\n",
       "        vertical-align: middle;\n",
       "    }\n",
       "\n",
       "    .dataframe tbody tr th {\n",
       "        vertical-align: top;\n",
       "    }\n",
       "\n",
       "    .dataframe thead th {\n",
       "        text-align: right;\n",
       "    }\n",
       "</style>\n",
       "<table border=\"1\" class=\"dataframe\">\n",
       "  <thead>\n",
       "    <tr style=\"text-align: right;\">\n",
       "      <th></th>\n",
       "      <th>PassengerId</th>\n",
       "      <th>Survived</th>\n",
       "      <th>Pclass</th>\n",
       "      <th>Name</th>\n",
       "      <th>Sex</th>\n",
       "      <th>Age</th>\n",
       "      <th>SibSp</th>\n",
       "      <th>Parch</th>\n",
       "      <th>Ticket</th>\n",
       "      <th>Fare</th>\n",
       "      <th>Cabin</th>\n",
       "      <th>Embarked</th>\n",
       "    </tr>\n",
       "  </thead>\n",
       "  <tbody>\n",
       "    <tr>\n",
       "      <th>0</th>\n",
       "      <td>1</td>\n",
       "      <td>0</td>\n",
       "      <td>3</td>\n",
       "      <td>Braund, Mr. Owen Harris</td>\n",
       "      <td>male</td>\n",
       "      <td>22.0</td>\n",
       "      <td>1</td>\n",
       "      <td>0</td>\n",
       "      <td>A/5 21171</td>\n",
       "      <td>7.2500</td>\n",
       "      <td>NaN</td>\n",
       "      <td>S</td>\n",
       "    </tr>\n",
       "    <tr>\n",
       "      <th>1</th>\n",
       "      <td>2</td>\n",
       "      <td>1</td>\n",
       "      <td>1</td>\n",
       "      <td>Cumings, Mrs. John Bradley (Florence Briggs Th...</td>\n",
       "      <td>female</td>\n",
       "      <td>38.0</td>\n",
       "      <td>1</td>\n",
       "      <td>0</td>\n",
       "      <td>PC 17599</td>\n",
       "      <td>71.2833</td>\n",
       "      <td>C85</td>\n",
       "      <td>C</td>\n",
       "    </tr>\n",
       "    <tr>\n",
       "      <th>2</th>\n",
       "      <td>3</td>\n",
       "      <td>1</td>\n",
       "      <td>3</td>\n",
       "      <td>Heikkinen, Miss. Laina</td>\n",
       "      <td>female</td>\n",
       "      <td>26.0</td>\n",
       "      <td>0</td>\n",
       "      <td>0</td>\n",
       "      <td>STON/O2. 3101282</td>\n",
       "      <td>7.9250</td>\n",
       "      <td>NaN</td>\n",
       "      <td>S</td>\n",
       "    </tr>\n",
       "    <tr>\n",
       "      <th>3</th>\n",
       "      <td>4</td>\n",
       "      <td>1</td>\n",
       "      <td>1</td>\n",
       "      <td>Futrelle, Mrs. Jacques Heath (Lily May Peel)</td>\n",
       "      <td>female</td>\n",
       "      <td>35.0</td>\n",
       "      <td>1</td>\n",
       "      <td>0</td>\n",
       "      <td>113803</td>\n",
       "      <td>53.1000</td>\n",
       "      <td>C123</td>\n",
       "      <td>S</td>\n",
       "    </tr>\n",
       "    <tr>\n",
       "      <th>4</th>\n",
       "      <td>5</td>\n",
       "      <td>0</td>\n",
       "      <td>3</td>\n",
       "      <td>Allen, Mr. William Henry</td>\n",
       "      <td>male</td>\n",
       "      <td>35.0</td>\n",
       "      <td>0</td>\n",
       "      <td>0</td>\n",
       "      <td>373450</td>\n",
       "      <td>8.0500</td>\n",
       "      <td>NaN</td>\n",
       "      <td>S</td>\n",
       "    </tr>\n",
       "  </tbody>\n",
       "</table>\n",
       "</div>"
      ],
      "text/plain": [
       "   PassengerId  Survived  Pclass  \\\n",
       "0            1         0       3   \n",
       "1            2         1       1   \n",
       "2            3         1       3   \n",
       "3            4         1       1   \n",
       "4            5         0       3   \n",
       "\n",
       "                                                Name     Sex   Age  SibSp  \\\n",
       "0                            Braund, Mr. Owen Harris    male  22.0      1   \n",
       "1  Cumings, Mrs. John Bradley (Florence Briggs Th...  female  38.0      1   \n",
       "2                             Heikkinen, Miss. Laina  female  26.0      0   \n",
       "3       Futrelle, Mrs. Jacques Heath (Lily May Peel)  female  35.0      1   \n",
       "4                           Allen, Mr. William Henry    male  35.0      0   \n",
       "\n",
       "   Parch            Ticket     Fare Cabin Embarked  \n",
       "0      0         A/5 21171   7.2500   NaN        S  \n",
       "1      0          PC 17599  71.2833   C85        C  \n",
       "2      0  STON/O2. 3101282   7.9250   NaN        S  \n",
       "3      0            113803  53.1000  C123        S  \n",
       "4      0            373450   8.0500   NaN        S  "
      ]
     },
     "execution_count": 5,
     "metadata": {},
     "output_type": "execute_result"
    }
   ],
   "source": [
    "train_df.head()"
   ]
  },
  {
   "cell_type": "code",
   "execution_count": 6,
   "id": "19d38120",
   "metadata": {
    "execution": {
     "iopub.execute_input": "2021-10-26T13:07:24.496457Z",
     "iopub.status.busy": "2021-10-26T13:07:24.495725Z",
     "iopub.status.idle": "2021-10-26T13:07:24.498408Z",
     "shell.execute_reply": "2021-10-26T13:07:24.498925Z",
     "shell.execute_reply.started": "2021-10-26T12:51:46.618484Z"
    },
    "papermill": {
     "duration": 0.067468,
     "end_time": "2021-10-26T13:07:24.499094",
     "exception": false,
     "start_time": "2021-10-26T13:07:24.431626",
     "status": "completed"
    },
    "tags": []
   },
   "outputs": [
    {
     "data": {
      "text/html": [
       "<div>\n",
       "<style scoped>\n",
       "    .dataframe tbody tr th:only-of-type {\n",
       "        vertical-align: middle;\n",
       "    }\n",
       "\n",
       "    .dataframe tbody tr th {\n",
       "        vertical-align: top;\n",
       "    }\n",
       "\n",
       "    .dataframe thead th {\n",
       "        text-align: right;\n",
       "    }\n",
       "</style>\n",
       "<table border=\"1\" class=\"dataframe\">\n",
       "  <thead>\n",
       "    <tr style=\"text-align: right;\">\n",
       "      <th></th>\n",
       "      <th>PassengerId</th>\n",
       "      <th>Pclass</th>\n",
       "      <th>Name</th>\n",
       "      <th>Sex</th>\n",
       "      <th>Age</th>\n",
       "      <th>SibSp</th>\n",
       "      <th>Parch</th>\n",
       "      <th>Ticket</th>\n",
       "      <th>Fare</th>\n",
       "      <th>Cabin</th>\n",
       "      <th>Embarked</th>\n",
       "    </tr>\n",
       "  </thead>\n",
       "  <tbody>\n",
       "    <tr>\n",
       "      <th>0</th>\n",
       "      <td>892</td>\n",
       "      <td>3</td>\n",
       "      <td>Kelly, Mr. James</td>\n",
       "      <td>male</td>\n",
       "      <td>34.5</td>\n",
       "      <td>0</td>\n",
       "      <td>0</td>\n",
       "      <td>330911</td>\n",
       "      <td>7.8292</td>\n",
       "      <td>NaN</td>\n",
       "      <td>Q</td>\n",
       "    </tr>\n",
       "    <tr>\n",
       "      <th>1</th>\n",
       "      <td>893</td>\n",
       "      <td>3</td>\n",
       "      <td>Wilkes, Mrs. James (Ellen Needs)</td>\n",
       "      <td>female</td>\n",
       "      <td>47.0</td>\n",
       "      <td>1</td>\n",
       "      <td>0</td>\n",
       "      <td>363272</td>\n",
       "      <td>7.0000</td>\n",
       "      <td>NaN</td>\n",
       "      <td>S</td>\n",
       "    </tr>\n",
       "    <tr>\n",
       "      <th>2</th>\n",
       "      <td>894</td>\n",
       "      <td>2</td>\n",
       "      <td>Myles, Mr. Thomas Francis</td>\n",
       "      <td>male</td>\n",
       "      <td>62.0</td>\n",
       "      <td>0</td>\n",
       "      <td>0</td>\n",
       "      <td>240276</td>\n",
       "      <td>9.6875</td>\n",
       "      <td>NaN</td>\n",
       "      <td>Q</td>\n",
       "    </tr>\n",
       "    <tr>\n",
       "      <th>3</th>\n",
       "      <td>895</td>\n",
       "      <td>3</td>\n",
       "      <td>Wirz, Mr. Albert</td>\n",
       "      <td>male</td>\n",
       "      <td>27.0</td>\n",
       "      <td>0</td>\n",
       "      <td>0</td>\n",
       "      <td>315154</td>\n",
       "      <td>8.6625</td>\n",
       "      <td>NaN</td>\n",
       "      <td>S</td>\n",
       "    </tr>\n",
       "    <tr>\n",
       "      <th>4</th>\n",
       "      <td>896</td>\n",
       "      <td>3</td>\n",
       "      <td>Hirvonen, Mrs. Alexander (Helga E Lindqvist)</td>\n",
       "      <td>female</td>\n",
       "      <td>22.0</td>\n",
       "      <td>1</td>\n",
       "      <td>1</td>\n",
       "      <td>3101298</td>\n",
       "      <td>12.2875</td>\n",
       "      <td>NaN</td>\n",
       "      <td>S</td>\n",
       "    </tr>\n",
       "  </tbody>\n",
       "</table>\n",
       "</div>"
      ],
      "text/plain": [
       "   PassengerId  Pclass                                          Name     Sex  \\\n",
       "0          892       3                              Kelly, Mr. James    male   \n",
       "1          893       3              Wilkes, Mrs. James (Ellen Needs)  female   \n",
       "2          894       2                     Myles, Mr. Thomas Francis    male   \n",
       "3          895       3                              Wirz, Mr. Albert    male   \n",
       "4          896       3  Hirvonen, Mrs. Alexander (Helga E Lindqvist)  female   \n",
       "\n",
       "    Age  SibSp  Parch   Ticket     Fare Cabin Embarked  \n",
       "0  34.5      0      0   330911   7.8292   NaN        Q  \n",
       "1  47.0      1      0   363272   7.0000   NaN        S  \n",
       "2  62.0      0      0   240276   9.6875   NaN        Q  \n",
       "3  27.0      0      0   315154   8.6625   NaN        S  \n",
       "4  22.0      1      1  3101298  12.2875   NaN        S  "
      ]
     },
     "execution_count": 6,
     "metadata": {},
     "output_type": "execute_result"
    }
   ],
   "source": [
    "test_df.head()"
   ]
  },
  {
   "cell_type": "markdown",
   "id": "ccf25a9b",
   "metadata": {
    "papermill": {
     "duration": 0.049519,
     "end_time": "2021-10-26T13:07:24.598491",
     "exception": false,
     "start_time": "2021-10-26T13:07:24.548972",
     "status": "completed"
    },
    "tags": []
   },
   "source": [
    "## Adição de colunas"
   ]
  },
  {
   "cell_type": "markdown",
   "id": "54beaef0",
   "metadata": {
    "papermill": {
     "duration": 0.050079,
     "end_time": "2021-10-26T13:07:24.698158",
     "exception": false,
     "start_time": "2021-10-26T13:07:24.648079",
     "status": "completed"
    },
    "tags": []
   },
   "source": [
    "Nesta seção foi adicionado aos datasets as colunas 'Family_Size' e 'Size Family'\n",
    "\n",
    "[Material de referência](https://triangleinequality.wordpress.com/2013/09/08/basic-feature-engineering-with-the-titanic-data/)"
   ]
  },
  {
   "cell_type": "code",
   "execution_count": 7,
   "id": "f627d464",
   "metadata": {
    "execution": {
     "iopub.execute_input": "2021-10-26T13:07:24.803643Z",
     "iopub.status.busy": "2021-10-26T13:07:24.802962Z",
     "iopub.status.idle": "2021-10-26T13:07:24.812733Z",
     "shell.execute_reply": "2021-10-26T13:07:24.813390Z",
     "shell.execute_reply.started": "2021-10-26T12:51:46.644690Z"
    },
    "papermill": {
     "duration": 0.065172,
     "end_time": "2021-10-26T13:07:24.813734",
     "exception": false,
     "start_time": "2021-10-26T13:07:24.748562",
     "status": "completed"
    },
    "tags": []
   },
   "outputs": [],
   "source": [
    "train_df['Family_Size'] = train_df['SibSp']+train_df['Parch'] + 1\n",
    "test_df['Family_Size'] = test_df['SibSp']+test_df['Parch'] + 1"
   ]
  },
  {
   "cell_type": "code",
   "execution_count": 8,
   "id": "df37fad9",
   "metadata": {
    "execution": {
     "iopub.execute_input": "2021-10-26T13:07:24.917670Z",
     "iopub.status.busy": "2021-10-26T13:07:24.916971Z",
     "iopub.status.idle": "2021-10-26T13:07:24.939649Z",
     "shell.execute_reply": "2021-10-26T13:07:24.940252Z",
     "shell.execute_reply.started": "2021-10-26T12:51:46.653302Z"
    },
    "papermill": {
     "duration": 0.076485,
     "end_time": "2021-10-26T13:07:24.940444",
     "exception": false,
     "start_time": "2021-10-26T13:07:24.863959",
     "status": "completed"
    },
    "tags": []
   },
   "outputs": [],
   "source": [
    "i = 0\n",
    "train_df['Size_Family'] = train_df['Family_Size']\n",
    "for fam in train_df['Family_Size']:\n",
    "    if fam == 1:\n",
    "        #print('Sozinho', fam)\n",
    "        train_df['Size_Family'][i] = 'singleton' \n",
    "    elif 5 > fam > 1:\n",
    "        #print('Pequena', fam)\n",
    "        train_df['Size_Family'][i] = 'small'\n",
    "    elif 5 <= fam:\n",
    "        #print('Grande',fam)\n",
    "        train_df['Size_Family'][i] = 'large'\n",
    "    i += 1 "
   ]
  },
  {
   "cell_type": "markdown",
   "id": "ef55d346",
   "metadata": {
    "papermill": {
     "duration": 0.049689,
     "end_time": "2021-10-26T13:07:25.040469",
     "exception": false,
     "start_time": "2021-10-26T13:07:24.990780",
     "status": "completed"
    },
    "tags": []
   },
   "source": [
    "## Análise Exploratória"
   ]
  },
  {
   "cell_type": "code",
   "execution_count": 9,
   "id": "2b248683",
   "metadata": {
    "execution": {
     "iopub.execute_input": "2021-10-26T13:07:25.143679Z",
     "iopub.status.busy": "2021-10-26T13:07:25.143040Z",
     "iopub.status.idle": "2021-10-26T13:07:25.158256Z",
     "shell.execute_reply": "2021-10-26T13:07:25.158827Z",
     "shell.execute_reply.started": "2021-10-26T12:51:46.682315Z"
    },
    "papermill": {
     "duration": 0.068741,
     "end_time": "2021-10-26T13:07:25.159005",
     "exception": false,
     "start_time": "2021-10-26T13:07:25.090264",
     "status": "completed"
    },
    "tags": []
   },
   "outputs": [
    {
     "data": {
      "text/html": [
       "<div>\n",
       "<style scoped>\n",
       "    .dataframe tbody tr th:only-of-type {\n",
       "        vertical-align: middle;\n",
       "    }\n",
       "\n",
       "    .dataframe tbody tr th {\n",
       "        vertical-align: top;\n",
       "    }\n",
       "\n",
       "    .dataframe thead th {\n",
       "        text-align: right;\n",
       "    }\n",
       "</style>\n",
       "<table border=\"1\" class=\"dataframe\">\n",
       "  <thead>\n",
       "    <tr style=\"text-align: right;\">\n",
       "      <th></th>\n",
       "      <th>PassengerId</th>\n",
       "      <th>Survived</th>\n",
       "      <th>Pclass</th>\n",
       "      <th>Name</th>\n",
       "      <th>Sex</th>\n",
       "      <th>Age</th>\n",
       "      <th>SibSp</th>\n",
       "      <th>Parch</th>\n",
       "      <th>Ticket</th>\n",
       "      <th>Fare</th>\n",
       "      <th>Cabin</th>\n",
       "      <th>Embarked</th>\n",
       "      <th>Family_Size</th>\n",
       "      <th>Size_Family</th>\n",
       "    </tr>\n",
       "  </thead>\n",
       "  <tbody>\n",
       "    <tr>\n",
       "      <th>0</th>\n",
       "      <td>1</td>\n",
       "      <td>0</td>\n",
       "      <td>3</td>\n",
       "      <td>Braund, Mr. Owen Harris</td>\n",
       "      <td>male</td>\n",
       "      <td>22.0</td>\n",
       "      <td>1</td>\n",
       "      <td>0</td>\n",
       "      <td>A/5 21171</td>\n",
       "      <td>7.2500</td>\n",
       "      <td>NaN</td>\n",
       "      <td>S</td>\n",
       "      <td>2</td>\n",
       "      <td>small</td>\n",
       "    </tr>\n",
       "    <tr>\n",
       "      <th>1</th>\n",
       "      <td>2</td>\n",
       "      <td>1</td>\n",
       "      <td>1</td>\n",
       "      <td>Cumings, Mrs. John Bradley (Florence Briggs Th...</td>\n",
       "      <td>female</td>\n",
       "      <td>38.0</td>\n",
       "      <td>1</td>\n",
       "      <td>0</td>\n",
       "      <td>PC 17599</td>\n",
       "      <td>71.2833</td>\n",
       "      <td>C85</td>\n",
       "      <td>C</td>\n",
       "      <td>2</td>\n",
       "      <td>small</td>\n",
       "    </tr>\n",
       "    <tr>\n",
       "      <th>2</th>\n",
       "      <td>3</td>\n",
       "      <td>1</td>\n",
       "      <td>3</td>\n",
       "      <td>Heikkinen, Miss. Laina</td>\n",
       "      <td>female</td>\n",
       "      <td>26.0</td>\n",
       "      <td>0</td>\n",
       "      <td>0</td>\n",
       "      <td>STON/O2. 3101282</td>\n",
       "      <td>7.9250</td>\n",
       "      <td>NaN</td>\n",
       "      <td>S</td>\n",
       "      <td>1</td>\n",
       "      <td>singleton</td>\n",
       "    </tr>\n",
       "    <tr>\n",
       "      <th>3</th>\n",
       "      <td>4</td>\n",
       "      <td>1</td>\n",
       "      <td>1</td>\n",
       "      <td>Futrelle, Mrs. Jacques Heath (Lily May Peel)</td>\n",
       "      <td>female</td>\n",
       "      <td>35.0</td>\n",
       "      <td>1</td>\n",
       "      <td>0</td>\n",
       "      <td>113803</td>\n",
       "      <td>53.1000</td>\n",
       "      <td>C123</td>\n",
       "      <td>S</td>\n",
       "      <td>2</td>\n",
       "      <td>small</td>\n",
       "    </tr>\n",
       "    <tr>\n",
       "      <th>4</th>\n",
       "      <td>5</td>\n",
       "      <td>0</td>\n",
       "      <td>3</td>\n",
       "      <td>Allen, Mr. William Henry</td>\n",
       "      <td>male</td>\n",
       "      <td>35.0</td>\n",
       "      <td>0</td>\n",
       "      <td>0</td>\n",
       "      <td>373450</td>\n",
       "      <td>8.0500</td>\n",
       "      <td>NaN</td>\n",
       "      <td>S</td>\n",
       "      <td>1</td>\n",
       "      <td>singleton</td>\n",
       "    </tr>\n",
       "  </tbody>\n",
       "</table>\n",
       "</div>"
      ],
      "text/plain": [
       "   PassengerId  Survived  Pclass  \\\n",
       "0            1         0       3   \n",
       "1            2         1       1   \n",
       "2            3         1       3   \n",
       "3            4         1       1   \n",
       "4            5         0       3   \n",
       "\n",
       "                                                Name     Sex   Age  SibSp  \\\n",
       "0                            Braund, Mr. Owen Harris    male  22.0      1   \n",
       "1  Cumings, Mrs. John Bradley (Florence Briggs Th...  female  38.0      1   \n",
       "2                             Heikkinen, Miss. Laina  female  26.0      0   \n",
       "3       Futrelle, Mrs. Jacques Heath (Lily May Peel)  female  35.0      1   \n",
       "4                           Allen, Mr. William Henry    male  35.0      0   \n",
       "\n",
       "   Parch            Ticket     Fare Cabin Embarked  Family_Size Size_Family  \n",
       "0      0         A/5 21171   7.2500   NaN        S            2       small  \n",
       "1      0          PC 17599  71.2833   C85        C            2       small  \n",
       "2      0  STON/O2. 3101282   7.9250   NaN        S            1   singleton  \n",
       "3      0            113803  53.1000  C123        S            2       small  \n",
       "4      0            373450   8.0500   NaN        S            1   singleton  "
      ]
     },
     "execution_count": 9,
     "metadata": {},
     "output_type": "execute_result"
    }
   ],
   "source": [
    "train_df.head()"
   ]
  },
  {
   "cell_type": "code",
   "execution_count": 10,
   "id": "c94d3a43",
   "metadata": {
    "execution": {
     "iopub.execute_input": "2021-10-26T13:07:25.266140Z",
     "iopub.status.busy": "2021-10-26T13:07:25.265475Z",
     "iopub.status.idle": "2021-10-26T13:07:25.281086Z",
     "shell.execute_reply": "2021-10-26T13:07:25.281581Z",
     "shell.execute_reply.started": "2021-10-26T12:51:46.712425Z"
    },
    "papermill": {
     "duration": 0.069957,
     "end_time": "2021-10-26T13:07:25.281773",
     "exception": false,
     "start_time": "2021-10-26T13:07:25.211816",
     "status": "completed"
    },
    "tags": []
   },
   "outputs": [
    {
     "data": {
      "text/html": [
       "<div>\n",
       "<style scoped>\n",
       "    .dataframe tbody tr th:only-of-type {\n",
       "        vertical-align: middle;\n",
       "    }\n",
       "\n",
       "    .dataframe tbody tr th {\n",
       "        vertical-align: top;\n",
       "    }\n",
       "\n",
       "    .dataframe thead th {\n",
       "        text-align: right;\n",
       "    }\n",
       "</style>\n",
       "<table border=\"1\" class=\"dataframe\">\n",
       "  <thead>\n",
       "    <tr style=\"text-align: right;\">\n",
       "      <th></th>\n",
       "      <th>Survived</th>\n",
       "    </tr>\n",
       "  </thead>\n",
       "  <tbody>\n",
       "    <tr>\n",
       "      <th>Survived</th>\n",
       "      <td>1.000000</td>\n",
       "    </tr>\n",
       "    <tr>\n",
       "      <th>Fare</th>\n",
       "      <td>0.257307</td>\n",
       "    </tr>\n",
       "    <tr>\n",
       "      <th>Parch</th>\n",
       "      <td>0.081629</td>\n",
       "    </tr>\n",
       "    <tr>\n",
       "      <th>Family_Size</th>\n",
       "      <td>0.016639</td>\n",
       "    </tr>\n",
       "    <tr>\n",
       "      <th>PassengerId</th>\n",
       "      <td>-0.005007</td>\n",
       "    </tr>\n",
       "    <tr>\n",
       "      <th>SibSp</th>\n",
       "      <td>-0.035322</td>\n",
       "    </tr>\n",
       "    <tr>\n",
       "      <th>Age</th>\n",
       "      <td>-0.077221</td>\n",
       "    </tr>\n",
       "    <tr>\n",
       "      <th>Pclass</th>\n",
       "      <td>-0.338481</td>\n",
       "    </tr>\n",
       "  </tbody>\n",
       "</table>\n",
       "</div>"
      ],
      "text/plain": [
       "             Survived\n",
       "Survived     1.000000\n",
       "Fare         0.257307\n",
       "Parch        0.081629\n",
       "Family_Size  0.016639\n",
       "PassengerId -0.005007\n",
       "SibSp       -0.035322\n",
       "Age         -0.077221\n",
       "Pclass      -0.338481"
      ]
     },
     "execution_count": 10,
     "metadata": {},
     "output_type": "execute_result"
    }
   ],
   "source": [
    "#Correlação entre colunas e survived\n",
    "train_df.corr()[['Survived']].sort_values(by='Survived', ascending=False)"
   ]
  },
  {
   "cell_type": "code",
   "execution_count": 11,
   "id": "6645b44a",
   "metadata": {
    "execution": {
     "iopub.execute_input": "2021-10-26T13:07:25.388751Z",
     "iopub.status.busy": "2021-10-26T13:07:25.388025Z",
     "iopub.status.idle": "2021-10-26T13:07:25.403005Z",
     "shell.execute_reply": "2021-10-26T13:07:25.402346Z",
     "shell.execute_reply.started": "2021-10-26T12:51:46.733307Z"
    },
    "papermill": {
     "duration": 0.06983,
     "end_time": "2021-10-26T13:07:25.403145",
     "exception": false,
     "start_time": "2021-10-26T13:07:25.333315",
     "status": "completed"
    },
    "tags": []
   },
   "outputs": [
    {
     "data": {
      "text/html": [
       "<div>\n",
       "<style scoped>\n",
       "    .dataframe tbody tr th:only-of-type {\n",
       "        vertical-align: middle;\n",
       "    }\n",
       "\n",
       "    .dataframe tbody tr th {\n",
       "        vertical-align: top;\n",
       "    }\n",
       "\n",
       "    .dataframe thead th {\n",
       "        text-align: right;\n",
       "    }\n",
       "</style>\n",
       "<table border=\"1\" class=\"dataframe\">\n",
       "  <thead>\n",
       "    <tr style=\"text-align: right;\">\n",
       "      <th></th>\n",
       "      <th>Pclass</th>\n",
       "      <th>Survived</th>\n",
       "    </tr>\n",
       "  </thead>\n",
       "  <tbody>\n",
       "    <tr>\n",
       "      <th>0</th>\n",
       "      <td>1</td>\n",
       "      <td>0.629630</td>\n",
       "    </tr>\n",
       "    <tr>\n",
       "      <th>1</th>\n",
       "      <td>2</td>\n",
       "      <td>0.472826</td>\n",
       "    </tr>\n",
       "    <tr>\n",
       "      <th>2</th>\n",
       "      <td>3</td>\n",
       "      <td>0.242363</td>\n",
       "    </tr>\n",
       "  </tbody>\n",
       "</table>\n",
       "</div>"
      ],
      "text/plain": [
       "   Pclass  Survived\n",
       "0       1  0.629630\n",
       "1       2  0.472826\n",
       "2       3  0.242363"
      ]
     },
     "execution_count": 11,
     "metadata": {},
     "output_type": "execute_result"
    }
   ],
   "source": [
    "# taxa de sobreviventes por classe\n",
    "train_df[['Pclass', 'Survived']].groupby(['Pclass'], as_index=False).mean().sort_values(by='Survived', ascending=False)"
   ]
  },
  {
   "cell_type": "markdown",
   "id": "130567d5",
   "metadata": {
    "papermill": {
     "duration": 0.051241,
     "end_time": "2021-10-26T13:07:25.506779",
     "exception": false,
     "start_time": "2021-10-26T13:07:25.455538",
     "status": "completed"
    },
    "tags": []
   },
   "source": [
    "* Classe 1 tem uma taxa de sobrevivência superior as demais. "
   ]
  },
  {
   "cell_type": "code",
   "execution_count": 12,
   "id": "583b784f",
   "metadata": {
    "execution": {
     "iopub.execute_input": "2021-10-26T13:07:25.614097Z",
     "iopub.status.busy": "2021-10-26T13:07:25.613306Z",
     "iopub.status.idle": "2021-10-26T13:07:25.627468Z",
     "shell.execute_reply": "2021-10-26T13:07:25.626759Z",
     "shell.execute_reply.started": "2021-10-26T12:51:46.751282Z"
    },
    "papermill": {
     "duration": 0.069386,
     "end_time": "2021-10-26T13:07:25.627614",
     "exception": false,
     "start_time": "2021-10-26T13:07:25.558228",
     "status": "completed"
    },
    "tags": []
   },
   "outputs": [
    {
     "data": {
      "text/html": [
       "<div>\n",
       "<style scoped>\n",
       "    .dataframe tbody tr th:only-of-type {\n",
       "        vertical-align: middle;\n",
       "    }\n",
       "\n",
       "    .dataframe tbody tr th {\n",
       "        vertical-align: top;\n",
       "    }\n",
       "\n",
       "    .dataframe thead th {\n",
       "        text-align: right;\n",
       "    }\n",
       "</style>\n",
       "<table border=\"1\" class=\"dataframe\">\n",
       "  <thead>\n",
       "    <tr style=\"text-align: right;\">\n",
       "      <th></th>\n",
       "      <th>Sex</th>\n",
       "      <th>Survived</th>\n",
       "    </tr>\n",
       "  </thead>\n",
       "  <tbody>\n",
       "    <tr>\n",
       "      <th>0</th>\n",
       "      <td>female</td>\n",
       "      <td>0.742038</td>\n",
       "    </tr>\n",
       "    <tr>\n",
       "      <th>1</th>\n",
       "      <td>male</td>\n",
       "      <td>0.188908</td>\n",
       "    </tr>\n",
       "  </tbody>\n",
       "</table>\n",
       "</div>"
      ],
      "text/plain": [
       "      Sex  Survived\n",
       "0  female  0.742038\n",
       "1    male  0.188908"
      ]
     },
     "execution_count": 12,
     "metadata": {},
     "output_type": "execute_result"
    }
   ],
   "source": [
    "# taxa de sobreviventes por sexo\n",
    "train_df[[\"Sex\", \"Survived\"]].groupby(['Sex'], as_index=False).mean().sort_values(by='Survived', ascending=False)"
   ]
  },
  {
   "cell_type": "markdown",
   "id": "11ee1fba",
   "metadata": {
    "papermill": {
     "duration": 0.051541,
     "end_time": "2021-10-26T13:07:25.731790",
     "exception": false,
     "start_time": "2021-10-26T13:07:25.680249",
     "status": "completed"
    },
    "tags": []
   },
   "source": [
    "* Mulheres têm uma taxa de sobrevivência bem superior aos homens."
   ]
  },
  {
   "cell_type": "code",
   "execution_count": 13,
   "id": "74121b4f",
   "metadata": {
    "execution": {
     "iopub.execute_input": "2021-10-26T13:07:25.843664Z",
     "iopub.status.busy": "2021-10-26T13:07:25.842238Z",
     "iopub.status.idle": "2021-10-26T13:07:25.856362Z",
     "shell.execute_reply": "2021-10-26T13:07:25.856926Z",
     "shell.execute_reply.started": "2021-10-26T12:51:46.766687Z"
    },
    "papermill": {
     "duration": 0.073209,
     "end_time": "2021-10-26T13:07:25.857102",
     "exception": false,
     "start_time": "2021-10-26T13:07:25.783893",
     "status": "completed"
    },
    "tags": []
   },
   "outputs": [
    {
     "data": {
      "text/html": [
       "<div>\n",
       "<style scoped>\n",
       "    .dataframe tbody tr th:only-of-type {\n",
       "        vertical-align: middle;\n",
       "    }\n",
       "\n",
       "    .dataframe tbody tr th {\n",
       "        vertical-align: top;\n",
       "    }\n",
       "\n",
       "    .dataframe thead th {\n",
       "        text-align: right;\n",
       "    }\n",
       "</style>\n",
       "<table border=\"1\" class=\"dataframe\">\n",
       "  <thead>\n",
       "    <tr style=\"text-align: right;\">\n",
       "      <th></th>\n",
       "      <th></th>\n",
       "      <th>Survived</th>\n",
       "    </tr>\n",
       "    <tr>\n",
       "      <th>Sex</th>\n",
       "      <th>Pclass</th>\n",
       "      <th></th>\n",
       "    </tr>\n",
       "  </thead>\n",
       "  <tbody>\n",
       "    <tr>\n",
       "      <th rowspan=\"3\" valign=\"top\">female</th>\n",
       "      <th>1</th>\n",
       "      <td>0.968085</td>\n",
       "    </tr>\n",
       "    <tr>\n",
       "      <th>2</th>\n",
       "      <td>0.921053</td>\n",
       "    </tr>\n",
       "    <tr>\n",
       "      <th>3</th>\n",
       "      <td>0.500000</td>\n",
       "    </tr>\n",
       "    <tr>\n",
       "      <th rowspan=\"3\" valign=\"top\">male</th>\n",
       "      <th>1</th>\n",
       "      <td>0.368852</td>\n",
       "    </tr>\n",
       "    <tr>\n",
       "      <th>2</th>\n",
       "      <td>0.157407</td>\n",
       "    </tr>\n",
       "    <tr>\n",
       "      <th>3</th>\n",
       "      <td>0.135447</td>\n",
       "    </tr>\n",
       "  </tbody>\n",
       "</table>\n",
       "</div>"
      ],
      "text/plain": [
       "               Survived\n",
       "Sex    Pclass          \n",
       "female 1       0.968085\n",
       "       2       0.921053\n",
       "       3       0.500000\n",
       "male   1       0.368852\n",
       "       2       0.157407\n",
       "       3       0.135447"
      ]
     },
     "execution_count": 13,
     "metadata": {},
     "output_type": "execute_result"
    }
   ],
   "source": [
    "# taxa de sobrevivente por sexo e classe\n",
    "train_df[[\"Sex\", \"Survived\",'Pclass']].groupby(['Sex','Pclass']).mean().sort_values(by='Survived', ascending=False)"
   ]
  },
  {
   "cell_type": "markdown",
   "id": "23dcbe0a",
   "metadata": {
    "papermill": {
     "duration": 0.052925,
     "end_time": "2021-10-26T13:07:25.965839",
     "exception": false,
     "start_time": "2021-10-26T13:07:25.912914",
     "status": "completed"
    },
    "tags": []
   },
   "source": [
    "* Em ambos os sexos a taxa da classe 1 é maior, apesar das mulheres de classe 1 e 2 terem uma taxa bem semelhante. Vale também destacar a diferença entre as mulheres de classe 3 com as demais.  "
   ]
  },
  {
   "cell_type": "code",
   "execution_count": 14,
   "id": "7b2da93c",
   "metadata": {
    "execution": {
     "iopub.execute_input": "2021-10-26T13:07:26.086698Z",
     "iopub.status.busy": "2021-10-26T13:07:26.085969Z",
     "iopub.status.idle": "2021-10-26T13:07:26.092929Z",
     "shell.execute_reply": "2021-10-26T13:07:26.093693Z",
     "shell.execute_reply.started": "2021-10-26T12:51:46.785177Z"
    },
    "papermill": {
     "duration": 0.074012,
     "end_time": "2021-10-26T13:07:26.093939",
     "exception": false,
     "start_time": "2021-10-26T13:07:26.019927",
     "status": "completed"
    },
    "tags": []
   },
   "outputs": [
    {
     "data": {
      "text/html": [
       "<div>\n",
       "<style scoped>\n",
       "    .dataframe tbody tr th:only-of-type {\n",
       "        vertical-align: middle;\n",
       "    }\n",
       "\n",
       "    .dataframe tbody tr th {\n",
       "        vertical-align: top;\n",
       "    }\n",
       "\n",
       "    .dataframe thead th {\n",
       "        text-align: right;\n",
       "    }\n",
       "</style>\n",
       "<table border=\"1\" class=\"dataframe\">\n",
       "  <thead>\n",
       "    <tr style=\"text-align: right;\">\n",
       "      <th></th>\n",
       "      <th>Survived</th>\n",
       "    </tr>\n",
       "    <tr>\n",
       "      <th>Embarked</th>\n",
       "      <th></th>\n",
       "    </tr>\n",
       "  </thead>\n",
       "  <tbody>\n",
       "    <tr>\n",
       "      <th>C</th>\n",
       "      <td>0.553571</td>\n",
       "    </tr>\n",
       "    <tr>\n",
       "      <th>Q</th>\n",
       "      <td>0.389610</td>\n",
       "    </tr>\n",
       "    <tr>\n",
       "      <th>S</th>\n",
       "      <td>0.336957</td>\n",
       "    </tr>\n",
       "  </tbody>\n",
       "</table>\n",
       "</div>"
      ],
      "text/plain": [
       "          Survived\n",
       "Embarked          \n",
       "C         0.553571\n",
       "Q         0.389610\n",
       "S         0.336957"
      ]
     },
     "execution_count": 14,
     "metadata": {},
     "output_type": "execute_result"
    }
   ],
   "source": [
    "# taxa de sobrevivente por embarque\n",
    "train_df[[\"Embarked\", \"Survived\"]].groupby(['Embarked']).mean().sort_values(by='Survived', ascending=False)"
   ]
  },
  {
   "cell_type": "code",
   "execution_count": 15,
   "id": "b2c76fcf",
   "metadata": {
    "execution": {
     "iopub.execute_input": "2021-10-26T13:07:26.202760Z",
     "iopub.status.busy": "2021-10-26T13:07:26.202105Z",
     "iopub.status.idle": "2021-10-26T13:07:26.759205Z",
     "shell.execute_reply": "2021-10-26T13:07:26.758554Z",
     "shell.execute_reply.started": "2021-10-26T12:51:46.800467Z"
    },
    "papermill": {
     "duration": 0.612632,
     "end_time": "2021-10-26T13:07:26.759350",
     "exception": false,
     "start_time": "2021-10-26T13:07:26.146718",
     "status": "completed"
    },
    "tags": []
   },
   "outputs": [
    {
     "data": {
      "text/plain": [
       "<seaborn.axisgrid.FacetGrid at 0x7fa599117a50>"
      ]
     },
     "execution_count": 15,
     "metadata": {},
     "output_type": "execute_result"
    },
    {
     "data": {
      "image/png": "[encoded data removed]",
      "text/plain": [
       "<Figure size 432x216 with 2 Axes>"
      ]
     },
     "metadata": {
      "needs_background": "light"
     },
     "output_type": "display_data"
    }
   ],
   "source": [
    "#Número de sobreviventes ou não por idade\n",
    "g = sns.FacetGrid(train_df, col='Survived')\n",
    "g.map(plt.hist, 'Age', bins=20)"
   ]
  },
  {
   "cell_type": "code",
   "execution_count": 16,
   "id": "ab713845",
   "metadata": {
    "execution": {
     "iopub.execute_input": "2021-10-26T13:07:26.872860Z",
     "iopub.status.busy": "2021-10-26T13:07:26.872189Z",
     "iopub.status.idle": "2021-10-26T13:07:27.341831Z",
     "shell.execute_reply": "2021-10-26T13:07:27.341143Z",
     "shell.execute_reply.started": "2021-10-26T12:51:47.459663Z"
    },
    "papermill": {
     "duration": 0.528651,
     "end_time": "2021-10-26T13:07:27.341977",
     "exception": false,
     "start_time": "2021-10-26T13:07:26.813326",
     "status": "completed"
    },
    "tags": []
   },
   "outputs": [
    {
     "data": {
      "text/plain": [
       "<seaborn.axisgrid.FacetGrid at 0x7fa590f63ed0>"
      ]
     },
     "execution_count": 16,
     "metadata": {},
     "output_type": "execute_result"
    },
    {
     "data": {
      "image/png": "[encoded data removed]",
      "text/plain": [
       "<Figure size 432x216 with 2 Axes>"
      ]
     },
     "metadata": {
      "needs_background": "light"
     },
     "output_type": "display_data"
    }
   ],
   "source": [
    "#Número de sobreviventes por classe\n",
    "g = sns.FacetGrid(train_df, col='Survived')\n",
    "g.map(plt.hist, 'Pclass')"
   ]
  },
  {
   "cell_type": "code",
   "execution_count": 17,
   "id": "4663fe13",
   "metadata": {
    "execution": {
     "iopub.execute_input": "2021-10-26T13:07:27.467399Z",
     "iopub.status.busy": "2021-10-26T13:07:27.462166Z",
     "iopub.status.idle": "2021-10-26T13:07:27.471585Z",
     "shell.execute_reply": "2021-10-26T13:07:27.471050Z",
     "shell.execute_reply.started": "2021-10-26T12:51:48.049474Z"
    },
    "papermill": {
     "duration": 0.074293,
     "end_time": "2021-10-26T13:07:27.471744",
     "exception": false,
     "start_time": "2021-10-26T13:07:27.397451",
     "status": "completed"
    },
    "tags": []
   },
   "outputs": [
    {
     "data": {
      "text/html": [
       "<div>\n",
       "<style scoped>\n",
       "    .dataframe tbody tr th:only-of-type {\n",
       "        vertical-align: middle;\n",
       "    }\n",
       "\n",
       "    .dataframe tbody tr th {\n",
       "        vertical-align: top;\n",
       "    }\n",
       "\n",
       "    .dataframe thead th {\n",
       "        text-align: right;\n",
       "    }\n",
       "</style>\n",
       "<table border=\"1\" class=\"dataframe\">\n",
       "  <thead>\n",
       "    <tr style=\"text-align: right;\">\n",
       "      <th></th>\n",
       "      <th>Survived</th>\n",
       "    </tr>\n",
       "    <tr>\n",
       "      <th>Size_Family</th>\n",
       "      <th></th>\n",
       "    </tr>\n",
       "  </thead>\n",
       "  <tbody>\n",
       "    <tr>\n",
       "      <th>small</th>\n",
       "      <td>0.578767</td>\n",
       "    </tr>\n",
       "    <tr>\n",
       "      <th>singleton</th>\n",
       "      <td>0.303538</td>\n",
       "    </tr>\n",
       "    <tr>\n",
       "      <th>large</th>\n",
       "      <td>0.161290</td>\n",
       "    </tr>\n",
       "  </tbody>\n",
       "</table>\n",
       "</div>"
      ],
      "text/plain": [
       "             Survived\n",
       "Size_Family          \n",
       "small        0.578767\n",
       "singleton    0.303538\n",
       "large        0.161290"
      ]
     },
     "execution_count": 17,
     "metadata": {},
     "output_type": "execute_result"
    }
   ],
   "source": [
    "# Tamanho Família\n",
    "train_df[[\"Size_Family\", \"Survived\"]].groupby(['Size_Family']).mean().sort_values(by='Size_Family', ascending=False)"
   ]
  },
  {
   "cell_type": "code",
   "execution_count": 18,
   "id": "9411b8ff",
   "metadata": {
    "execution": {
     "iopub.execute_input": "2021-10-26T13:07:27.588186Z",
     "iopub.status.busy": "2021-10-26T13:07:27.587314Z",
     "iopub.status.idle": "2021-10-26T13:07:27.817395Z",
     "shell.execute_reply": "2021-10-26T13:07:27.816397Z",
     "shell.execute_reply.started": "2021-10-26T12:51:48.066861Z"
    },
    "papermill": {
     "duration": 0.29071,
     "end_time": "2021-10-26T13:07:27.817575",
     "exception": false,
     "start_time": "2021-10-26T13:07:27.526865",
     "status": "completed"
    },
    "tags": []
   },
   "outputs": [
    {
     "data": {
      "image/png": "[encoded data removed]",
      "text/plain": [
       "<Figure size 432x288 with 3 Axes>"
      ]
     },
     "metadata": {
      "needs_background": "light"
     },
     "output_type": "display_data"
    }
   ],
   "source": [
    "from statsmodels.graphics.mosaicplot import mosaic\n",
    "mosaic(train_df, ['Size_Family','Survived'], title = 'Taxa de sobrevivênvia por tamanho de família')\n",
    "plt.show()"
   ]
  },
  {
   "cell_type": "markdown",
   "id": "e61aa542",
   "metadata": {
    "papermill": {
     "duration": 0.056583,
     "end_time": "2021-10-26T13:07:27.931305",
     "exception": false,
     "start_time": "2021-10-26T13:07:27.874722",
     "status": "completed"
    },
    "tags": []
   },
   "source": [
    "## Tranformar dataset para poder treinar o modelo"
   ]
  },
  {
   "cell_type": "markdown",
   "id": "a28daaeb",
   "metadata": {
    "papermill": {
     "duration": 0.05662,
     "end_time": "2021-10-26T13:07:28.044686",
     "exception": false,
     "start_time": "2021-10-26T13:07:27.988066",
     "status": "completed"
    },
    "tags": []
   },
   "source": [
    "### Train_df"
   ]
  },
  {
   "cell_type": "code",
   "execution_count": 19,
   "id": "b3ff2766",
   "metadata": {
    "execution": {
     "iopub.execute_input": "2021-10-26T13:07:28.177013Z",
     "iopub.status.busy": "2021-10-26T13:07:28.176321Z",
     "iopub.status.idle": "2021-10-26T13:07:28.178892Z",
     "shell.execute_reply": "2021-10-26T13:07:28.179416Z",
     "shell.execute_reply.started": "2021-10-26T12:51:48.314338Z"
    },
    "papermill": {
     "duration": 0.076733,
     "end_time": "2021-10-26T13:07:28.179604",
     "exception": false,
     "start_time": "2021-10-26T13:07:28.102871",
     "status": "completed"
    },
    "tags": []
   },
   "outputs": [
    {
     "name": "stdout",
     "output_type": "stream",
     "text": [
      "<class 'pandas.core.frame.DataFrame'>\n",
      "RangeIndex: 891 entries, 0 to 890\n",
      "Data columns (total 14 columns):\n",
      " #   Column       Non-Null Count  Dtype  \n",
      "---  ------       --------------  -----  \n",
      " 0   PassengerId  891 non-null    int64  \n",
      " 1   Survived     891 non-null    int64  \n",
      " 2   Pclass       891 non-null    int64  \n",
      " 3   Name         891 non-null    object \n",
      " 4   Sex          891 non-null    object \n",
      " 5   Age          714 non-null    float64\n",
      " 6   SibSp        891 non-null    int64  \n",
      " 7   Parch        891 non-null    int64  \n",
      " 8   Ticket       891 non-null    object \n",
      " 9   Fare         891 non-null    float64\n",
      " 10  Cabin        204 non-null    object \n",
      " 11  Embarked     889 non-null    object \n",
      " 12  Family_Size  891 non-null    int64  \n",
      " 13  Size_Family  891 non-null    object \n",
      "dtypes: float64(2), int64(6), object(6)\n",
      "memory usage: 97.6+ KB\n"
     ]
    }
   ],
   "source": [
    "train_df.info()"
   ]
  },
  {
   "cell_type": "markdown",
   "id": "3a66b3d1",
   "metadata": {
    "papermill": {
     "duration": 0.056131,
     "end_time": "2021-10-26T13:07:28.292080",
     "exception": false,
     "start_time": "2021-10-26T13:07:28.235949",
     "status": "completed"
    },
    "tags": []
   },
   "source": [
    "Com o info é possível observar:\n",
    "* Coluna Age com dados nulos\n",
    "* Coluna Cabin com dados nulos\n",
    "* Coluna Embarked com dados nulos"
   ]
  },
  {
   "cell_type": "code",
   "execution_count": 20,
   "id": "4d27e0c2",
   "metadata": {
    "execution": {
     "iopub.execute_input": "2021-10-26T13:07:28.413605Z",
     "iopub.status.busy": "2021-10-26T13:07:28.409057Z",
     "iopub.status.idle": "2021-10-26T13:07:28.443476Z",
     "shell.execute_reply": "2021-10-26T13:07:28.442761Z",
     "shell.execute_reply.started": "2021-10-26T12:51:48.330831Z"
    },
    "papermill": {
     "duration": 0.094262,
     "end_time": "2021-10-26T13:07:28.443634",
     "exception": false,
     "start_time": "2021-10-26T13:07:28.349372",
     "status": "completed"
    },
    "tags": []
   },
   "outputs": [
    {
     "data": {
      "text/html": [
       "<div>\n",
       "<style scoped>\n",
       "    .dataframe tbody tr th:only-of-type {\n",
       "        vertical-align: middle;\n",
       "    }\n",
       "\n",
       "    .dataframe tbody tr th {\n",
       "        vertical-align: top;\n",
       "    }\n",
       "\n",
       "    .dataframe thead th {\n",
       "        text-align: right;\n",
       "    }\n",
       "</style>\n",
       "<table border=\"1\" class=\"dataframe\">\n",
       "  <thead>\n",
       "    <tr style=\"text-align: right;\">\n",
       "      <th></th>\n",
       "      <th>PassengerId</th>\n",
       "      <th>Survived</th>\n",
       "      <th>Pclass</th>\n",
       "      <th>Age</th>\n",
       "      <th>SibSp</th>\n",
       "      <th>Parch</th>\n",
       "      <th>Fare</th>\n",
       "      <th>Family_Size</th>\n",
       "    </tr>\n",
       "  </thead>\n",
       "  <tbody>\n",
       "    <tr>\n",
       "      <th>count</th>\n",
       "      <td>891.000000</td>\n",
       "      <td>891.000000</td>\n",
       "      <td>891.000000</td>\n",
       "      <td>714.000000</td>\n",
       "      <td>891.000000</td>\n",
       "      <td>891.000000</td>\n",
       "      <td>891.000000</td>\n",
       "      <td>891.000000</td>\n",
       "    </tr>\n",
       "    <tr>\n",
       "      <th>mean</th>\n",
       "      <td>446.000000</td>\n",
       "      <td>0.383838</td>\n",
       "      <td>2.308642</td>\n",
       "      <td>29.699118</td>\n",
       "      <td>0.523008</td>\n",
       "      <td>0.381594</td>\n",
       "      <td>32.204208</td>\n",
       "      <td>1.904602</td>\n",
       "    </tr>\n",
       "    <tr>\n",
       "      <th>std</th>\n",
       "      <td>257.353842</td>\n",
       "      <td>0.486592</td>\n",
       "      <td>0.836071</td>\n",
       "      <td>14.526497</td>\n",
       "      <td>1.102743</td>\n",
       "      <td>0.806057</td>\n",
       "      <td>49.693429</td>\n",
       "      <td>1.613459</td>\n",
       "    </tr>\n",
       "    <tr>\n",
       "      <th>min</th>\n",
       "      <td>1.000000</td>\n",
       "      <td>0.000000</td>\n",
       "      <td>1.000000</td>\n",
       "      <td>0.420000</td>\n",
       "      <td>0.000000</td>\n",
       "      <td>0.000000</td>\n",
       "      <td>0.000000</td>\n",
       "      <td>1.000000</td>\n",
       "    </tr>\n",
       "    <tr>\n",
       "      <th>25%</th>\n",
       "      <td>223.500000</td>\n",
       "      <td>0.000000</td>\n",
       "      <td>2.000000</td>\n",
       "      <td>20.125000</td>\n",
       "      <td>0.000000</td>\n",
       "      <td>0.000000</td>\n",
       "      <td>7.910400</td>\n",
       "      <td>1.000000</td>\n",
       "    </tr>\n",
       "    <tr>\n",
       "      <th>50%</th>\n",
       "      <td>446.000000</td>\n",
       "      <td>0.000000</td>\n",
       "      <td>3.000000</td>\n",
       "      <td>28.000000</td>\n",
       "      <td>0.000000</td>\n",
       "      <td>0.000000</td>\n",
       "      <td>14.454200</td>\n",
       "      <td>1.000000</td>\n",
       "    </tr>\n",
       "    <tr>\n",
       "      <th>75%</th>\n",
       "      <td>668.500000</td>\n",
       "      <td>1.000000</td>\n",
       "      <td>3.000000</td>\n",
       "      <td>38.000000</td>\n",
       "      <td>1.000000</td>\n",
       "      <td>0.000000</td>\n",
       "      <td>31.000000</td>\n",
       "      <td>2.000000</td>\n",
       "    </tr>\n",
       "    <tr>\n",
       "      <th>max</th>\n",
       "      <td>891.000000</td>\n",
       "      <td>1.000000</td>\n",
       "      <td>3.000000</td>\n",
       "      <td>80.000000</td>\n",
       "      <td>8.000000</td>\n",
       "      <td>6.000000</td>\n",
       "      <td>512.329200</td>\n",
       "      <td>11.000000</td>\n",
       "    </tr>\n",
       "  </tbody>\n",
       "</table>\n",
       "</div>"
      ],
      "text/plain": [
       "       PassengerId    Survived      Pclass         Age       SibSp  \\\n",
       "count   891.000000  891.000000  891.000000  714.000000  891.000000   \n",
       "mean    446.000000    0.383838    2.308642   29.699118    0.523008   \n",
       "std     257.353842    0.486592    0.836071   14.526497    1.102743   \n",
       "min       1.000000    0.000000    1.000000    0.420000    0.000000   \n",
       "25%     223.500000    0.000000    2.000000   20.125000    0.000000   \n",
       "50%     446.000000    0.000000    3.000000   28.000000    0.000000   \n",
       "75%     668.500000    1.000000    3.000000   38.000000    1.000000   \n",
       "max     891.000000    1.000000    3.000000   80.000000    8.000000   \n",
       "\n",
       "            Parch        Fare  Family_Size  \n",
       "count  891.000000  891.000000   891.000000  \n",
       "mean     0.381594   32.204208     1.904602  \n",
       "std      0.806057   49.693429     1.613459  \n",
       "min      0.000000    0.000000     1.000000  \n",
       "25%      0.000000    7.910400     1.000000  \n",
       "50%      0.000000   14.454200     1.000000  \n",
       "75%      0.000000   31.000000     2.000000  \n",
       "max      6.000000  512.329200    11.000000  "
      ]
     },
     "execution_count": 20,
     "metadata": {},
     "output_type": "execute_result"
    }
   ],
   "source": [
    "train_df.describe()"
   ]
  },
  {
   "cell_type": "code",
   "execution_count": 21,
   "id": "b4ae717b",
   "metadata": {
    "execution": {
     "iopub.execute_input": "2021-10-26T13:07:28.563471Z",
     "iopub.status.busy": "2021-10-26T13:07:28.562778Z",
     "iopub.status.idle": "2021-10-26T13:07:28.565056Z",
     "shell.execute_reply": "2021-10-26T13:07:28.564416Z",
     "shell.execute_reply.started": "2021-10-26T12:51:48.374187Z"
    },
    "papermill": {
     "duration": 0.064326,
     "end_time": "2021-10-26T13:07:28.565200",
     "exception": false,
     "start_time": "2021-10-26T13:07:28.500874",
     "status": "completed"
    },
    "tags": []
   },
   "outputs": [],
   "source": [
    "# Trocar dados nulos por 1000 na coluna Age\n",
    "train_df['Age'] = train_df['Age'].replace(np.nan, 1000)"
   ]
  },
  {
   "cell_type": "code",
   "execution_count": 22,
   "id": "70dd97f4",
   "metadata": {
    "execution": {
     "iopub.execute_input": "2021-10-26T13:07:28.695582Z",
     "iopub.status.busy": "2021-10-26T13:07:28.694716Z",
     "iopub.status.idle": "2021-10-26T13:07:28.698553Z",
     "shell.execute_reply": "2021-10-26T13:07:28.697891Z",
     "shell.execute_reply.started": "2021-10-26T12:51:48.382842Z"
    },
    "papermill": {
     "duration": 0.073681,
     "end_time": "2021-10-26T13:07:28.698695",
     "exception": false,
     "start_time": "2021-10-26T13:07:28.625014",
     "status": "completed"
    },
    "tags": []
   },
   "outputs": [
    {
     "data": {
      "text/plain": [
       "array([ 22.        ,  38.        ,  26.        ,  35.        ,\n",
       "       222.45249158,  54.        ,   2.        ,  27.        ,\n",
       "        14.        ,   4.        ,  58.        ,  20.        ,\n",
       "        39.        ,  55.        ,  31.        ,  34.        ,\n",
       "        15.        ,  28.        ,   8.        ,  19.        ,\n",
       "        40.        ,  66.        ,  42.        ,  21.        ,\n",
       "        18.        ,   3.        ,   7.        ,  49.        ,\n",
       "        29.        ,  65.        ,  28.5       ,   5.        ,\n",
       "        11.        ,  45.        ,  17.        ,  32.        ,\n",
       "        16.        ,  25.        ,   0.83      ,  30.        ,\n",
       "        33.        ,  23.        ,  24.        ,  46.        ,\n",
       "        59.        ,  71.        ,  37.        ,  47.        ,\n",
       "        14.5       ,  70.5       ,  32.5       ,  12.        ,\n",
       "         9.        ,  36.5       ,  51.        ,  55.5       ,\n",
       "        40.5       ,  44.        ,   1.        ,  61.        ,\n",
       "        56.        ,  50.        ,  36.        ,  45.5       ,\n",
       "        20.5       ,  62.        ,  41.        ,  52.        ,\n",
       "        63.        ,  23.5       ,   0.92      ,  43.        ,\n",
       "        60.        ,  10.        ,  64.        ,  13.        ,\n",
       "        48.        ,   0.75      ,  53.        ,  57.        ,\n",
       "        80.        ,  70.        ,  24.5       ,   6.        ,\n",
       "         0.67      ,  30.5       ,   0.42      ,  34.5       ,\n",
       "        74.        ])"
      ]
     },
     "execution_count": 22,
     "metadata": {},
     "output_type": "execute_result"
    }
   ],
   "source": [
    "# Média coluna Age\n",
    "mean_age_train = train_df['Age'].mean()\n",
    "#Trocar 1000 pela média da coluna\n",
    "train_df['Age'] = train_df['Age'].replace(1000, mean_age_train)\n",
    "#Ver os dados da coluna\n",
    "train_df['Age'].unique()"
   ]
  },
  {
   "cell_type": "markdown",
   "id": "13a1f6a6",
   "metadata": {
    "papermill": {
     "duration": 0.057321,
     "end_time": "2021-10-26T13:07:28.813264",
     "exception": false,
     "start_time": "2021-10-26T13:07:28.755943",
     "status": "completed"
    },
    "tags": []
   },
   "source": [
    "* Observe que não há dados '1000' nem nulos"
   ]
  },
  {
   "cell_type": "code",
   "execution_count": 23,
   "id": "5dd3e5af",
   "metadata": {
    "execution": {
     "iopub.execute_input": "2021-10-26T13:07:28.934499Z",
     "iopub.status.busy": "2021-10-26T13:07:28.933616Z",
     "iopub.status.idle": "2021-10-26T13:07:28.935288Z",
     "shell.execute_reply": "2021-10-26T13:07:28.935839Z",
     "shell.execute_reply.started": "2021-10-26T12:51:48.400288Z"
    },
    "papermill": {
     "duration": 0.065616,
     "end_time": "2021-10-26T13:07:28.936016",
     "exception": false,
     "start_time": "2021-10-26T13:07:28.870400",
     "status": "completed"
    },
    "tags": []
   },
   "outputs": [],
   "source": [
    "#train_df[[\"Embarked\",\"Survived\"]].groupby(['Embarked']).count()\n",
    "# Trocando Dados nulos pelo 'S'\n",
    "train_df['Embarked'] = train_df['Embarked'].replace(np.nan, 'S')"
   ]
  },
  {
   "cell_type": "code",
   "execution_count": 24,
   "id": "ed909a87",
   "metadata": {
    "execution": {
     "iopub.execute_input": "2021-10-26T13:07:29.057975Z",
     "iopub.status.busy": "2021-10-26T13:07:29.057159Z",
     "iopub.status.idle": "2021-10-26T13:07:29.060583Z",
     "shell.execute_reply": "2021-10-26T13:07:29.061091Z",
     "shell.execute_reply.started": "2021-10-26T12:51:48.411576Z"
    },
    "papermill": {
     "duration": 0.066867,
     "end_time": "2021-10-26T13:07:29.061266",
     "exception": false,
     "start_time": "2021-10-26T13:07:28.994399",
     "status": "completed"
    },
    "tags": []
   },
   "outputs": [
    {
     "data": {
      "text/plain": [
       "array(['S', 'C', 'Q'], dtype=object)"
      ]
     },
     "execution_count": 24,
     "metadata": {},
     "output_type": "execute_result"
    }
   ],
   "source": [
    "train_df['Embarked'].unique()"
   ]
  },
  {
   "cell_type": "code",
   "execution_count": 25,
   "id": "53b29f83",
   "metadata": {
    "execution": {
     "iopub.execute_input": "2021-10-26T13:07:29.181143Z",
     "iopub.status.busy": "2021-10-26T13:07:29.180370Z",
     "iopub.status.idle": "2021-10-26T13:07:29.193291Z",
     "shell.execute_reply": "2021-10-26T13:07:29.194058Z",
     "shell.execute_reply.started": "2021-10-26T12:51:48.425698Z"
    },
    "papermill": {
     "duration": 0.075131,
     "end_time": "2021-10-26T13:07:29.194288",
     "exception": false,
     "start_time": "2021-10-26T13:07:29.119157",
     "status": "completed"
    },
    "tags": []
   },
   "outputs": [
    {
     "name": "stdout",
     "output_type": "stream",
     "text": [
      "<class 'pandas.core.frame.DataFrame'>\n",
      "RangeIndex: 891 entries, 0 to 890\n",
      "Data columns (total 14 columns):\n",
      " #   Column       Non-Null Count  Dtype  \n",
      "---  ------       --------------  -----  \n",
      " 0   PassengerId  891 non-null    int64  \n",
      " 1   Survived     891 non-null    int64  \n",
      " 2   Pclass       891 non-null    int64  \n",
      " 3   Name         891 non-null    object \n",
      " 4   Sex          891 non-null    object \n",
      " 5   Age          891 non-null    float64\n",
      " 6   SibSp        891 non-null    int64  \n",
      " 7   Parch        891 non-null    int64  \n",
      " 8   Ticket       891 non-null    object \n",
      " 9   Fare         891 non-null    float64\n",
      " 10  Cabin        204 non-null    object \n",
      " 11  Embarked     891 non-null    object \n",
      " 12  Family_Size  891 non-null    int64  \n",
      " 13  Size_Family  891 non-null    object \n",
      "dtypes: float64(2), int64(6), object(6)\n",
      "memory usage: 97.6+ KB\n"
     ]
    }
   ],
   "source": [
    "train_df.info()"
   ]
  },
  {
   "cell_type": "code",
   "execution_count": 26,
   "id": "d6f00cb3",
   "metadata": {
    "execution": {
     "iopub.execute_input": "2021-10-26T13:07:29.317030Z",
     "iopub.status.busy": "2021-10-26T13:07:29.316205Z",
     "iopub.status.idle": "2021-10-26T13:07:29.320813Z",
     "shell.execute_reply": "2021-10-26T13:07:29.321357Z",
     "shell.execute_reply.started": "2021-10-26T12:51:48.446457Z"
    },
    "papermill": {
     "duration": 0.067657,
     "end_time": "2021-10-26T13:07:29.321569",
     "exception": false,
     "start_time": "2021-10-26T13:07:29.253912",
     "status": "completed"
    },
    "tags": []
   },
   "outputs": [],
   "source": [
    "#Dados de treino sem as colunas 'Cabin', 'Name', 'PassengerId'\n",
    "train_df = train_df[['Pclass','Sex','SibSp','Age','Parch','Fare','Embarked','Survived','Family_Size']]"
   ]
  },
  {
   "cell_type": "code",
   "execution_count": 27,
   "id": "54de8e40",
   "metadata": {
    "execution": {
     "iopub.execute_input": "2021-10-26T13:07:29.443947Z",
     "iopub.status.busy": "2021-10-26T13:07:29.443282Z",
     "iopub.status.idle": "2021-10-26T13:07:29.455974Z",
     "shell.execute_reply": "2021-10-26T13:07:29.456582Z",
     "shell.execute_reply.started": "2021-10-26T12:51:48.461810Z"
    },
    "papermill": {
     "duration": 0.074269,
     "end_time": "2021-10-26T13:07:29.456765",
     "exception": false,
     "start_time": "2021-10-26T13:07:29.382496",
     "status": "completed"
    },
    "tags": []
   },
   "outputs": [
    {
     "data": {
      "text/html": [
       "<div>\n",
       "<style scoped>\n",
       "    .dataframe tbody tr th:only-of-type {\n",
       "        vertical-align: middle;\n",
       "    }\n",
       "\n",
       "    .dataframe tbody tr th {\n",
       "        vertical-align: top;\n",
       "    }\n",
       "\n",
       "    .dataframe thead th {\n",
       "        text-align: right;\n",
       "    }\n",
       "</style>\n",
       "<table border=\"1\" class=\"dataframe\">\n",
       "  <thead>\n",
       "    <tr style=\"text-align: right;\">\n",
       "      <th></th>\n",
       "      <th>Pclass</th>\n",
       "      <th>Sex</th>\n",
       "      <th>SibSp</th>\n",
       "      <th>Age</th>\n",
       "      <th>Parch</th>\n",
       "      <th>Fare</th>\n",
       "      <th>Embarked</th>\n",
       "      <th>Survived</th>\n",
       "      <th>Family_Size</th>\n",
       "    </tr>\n",
       "  </thead>\n",
       "  <tbody>\n",
       "    <tr>\n",
       "      <th>0</th>\n",
       "      <td>3</td>\n",
       "      <td>male</td>\n",
       "      <td>1</td>\n",
       "      <td>22.0</td>\n",
       "      <td>0</td>\n",
       "      <td>7.2500</td>\n",
       "      <td>S</td>\n",
       "      <td>0</td>\n",
       "      <td>2</td>\n",
       "    </tr>\n",
       "    <tr>\n",
       "      <th>1</th>\n",
       "      <td>1</td>\n",
       "      <td>female</td>\n",
       "      <td>1</td>\n",
       "      <td>38.0</td>\n",
       "      <td>0</td>\n",
       "      <td>71.2833</td>\n",
       "      <td>C</td>\n",
       "      <td>1</td>\n",
       "      <td>2</td>\n",
       "    </tr>\n",
       "    <tr>\n",
       "      <th>2</th>\n",
       "      <td>3</td>\n",
       "      <td>female</td>\n",
       "      <td>0</td>\n",
       "      <td>26.0</td>\n",
       "      <td>0</td>\n",
       "      <td>7.9250</td>\n",
       "      <td>S</td>\n",
       "      <td>1</td>\n",
       "      <td>1</td>\n",
       "    </tr>\n",
       "    <tr>\n",
       "      <th>3</th>\n",
       "      <td>1</td>\n",
       "      <td>female</td>\n",
       "      <td>1</td>\n",
       "      <td>35.0</td>\n",
       "      <td>0</td>\n",
       "      <td>53.1000</td>\n",
       "      <td>S</td>\n",
       "      <td>1</td>\n",
       "      <td>2</td>\n",
       "    </tr>\n",
       "    <tr>\n",
       "      <th>4</th>\n",
       "      <td>3</td>\n",
       "      <td>male</td>\n",
       "      <td>0</td>\n",
       "      <td>35.0</td>\n",
       "      <td>0</td>\n",
       "      <td>8.0500</td>\n",
       "      <td>S</td>\n",
       "      <td>0</td>\n",
       "      <td>1</td>\n",
       "    </tr>\n",
       "  </tbody>\n",
       "</table>\n",
       "</div>"
      ],
      "text/plain": [
       "   Pclass     Sex  SibSp   Age  Parch     Fare Embarked  Survived  Family_Size\n",
       "0       3    male      1  22.0      0   7.2500        S         0            2\n",
       "1       1  female      1  38.0      0  71.2833        C         1            2\n",
       "2       3  female      0  26.0      0   7.9250        S         1            1\n",
       "3       1  female      1  35.0      0  53.1000        S         1            2\n",
       "4       3    male      0  35.0      0   8.0500        S         0            1"
      ]
     },
     "execution_count": 27,
     "metadata": {},
     "output_type": "execute_result"
    }
   ],
   "source": [
    "train_df.head()"
   ]
  },
  {
   "cell_type": "code",
   "execution_count": 28,
   "id": "2cc459e8",
   "metadata": {
    "execution": {
     "iopub.execute_input": "2021-10-26T13:07:29.578934Z",
     "iopub.status.busy": "2021-10-26T13:07:29.578160Z",
     "iopub.status.idle": "2021-10-26T13:07:29.584143Z",
     "shell.execute_reply": "2021-10-26T13:07:29.584744Z",
     "shell.execute_reply.started": "2021-10-26T12:51:48.484521Z"
    },
    "papermill": {
     "duration": 0.06766,
     "end_time": "2021-10-26T13:07:29.584928",
     "exception": false,
     "start_time": "2021-10-26T13:07:29.517268",
     "status": "completed"
    },
    "tags": []
   },
   "outputs": [],
   "source": [
    "#Tranformar colunas 'Sex', 'Embarked' e 'Title' em numéricas\n",
    "train_df['Sex'], Sex_train = train_df['Sex'].factorize()\n",
    "train_df['Embarked'], Embarked_train = train_df['Embarked'].factorize()"
   ]
  },
  {
   "cell_type": "code",
   "execution_count": 29,
   "id": "e21e6fbb",
   "metadata": {
    "execution": {
     "iopub.execute_input": "2021-10-26T13:07:29.706920Z",
     "iopub.status.busy": "2021-10-26T13:07:29.706168Z",
     "iopub.status.idle": "2021-10-26T13:07:29.718380Z",
     "shell.execute_reply": "2021-10-26T13:07:29.718966Z",
     "shell.execute_reply.started": "2021-10-26T12:51:48.500767Z"
    },
    "papermill": {
     "duration": 0.074538,
     "end_time": "2021-10-26T13:07:29.719152",
     "exception": false,
     "start_time": "2021-10-26T13:07:29.644614",
     "status": "completed"
    },
    "tags": []
   },
   "outputs": [
    {
     "data": {
      "text/html": [
       "<div>\n",
       "<style scoped>\n",
       "    .dataframe tbody tr th:only-of-type {\n",
       "        vertical-align: middle;\n",
       "    }\n",
       "\n",
       "    .dataframe tbody tr th {\n",
       "        vertical-align: top;\n",
       "    }\n",
       "\n",
       "    .dataframe thead th {\n",
       "        text-align: right;\n",
       "    }\n",
       "</style>\n",
       "<table border=\"1\" class=\"dataframe\">\n",
       "  <thead>\n",
       "    <tr style=\"text-align: right;\">\n",
       "      <th></th>\n",
       "      <th>Pclass</th>\n",
       "      <th>Sex</th>\n",
       "      <th>SibSp</th>\n",
       "      <th>Age</th>\n",
       "      <th>Parch</th>\n",
       "      <th>Fare</th>\n",
       "      <th>Embarked</th>\n",
       "      <th>Survived</th>\n",
       "      <th>Family_Size</th>\n",
       "    </tr>\n",
       "  </thead>\n",
       "  <tbody>\n",
       "    <tr>\n",
       "      <th>0</th>\n",
       "      <td>3</td>\n",
       "      <td>0</td>\n",
       "      <td>1</td>\n",
       "      <td>22.0</td>\n",
       "      <td>0</td>\n",
       "      <td>7.2500</td>\n",
       "      <td>0</td>\n",
       "      <td>0</td>\n",
       "      <td>2</td>\n",
       "    </tr>\n",
       "    <tr>\n",
       "      <th>1</th>\n",
       "      <td>1</td>\n",
       "      <td>1</td>\n",
       "      <td>1</td>\n",
       "      <td>38.0</td>\n",
       "      <td>0</td>\n",
       "      <td>71.2833</td>\n",
       "      <td>1</td>\n",
       "      <td>1</td>\n",
       "      <td>2</td>\n",
       "    </tr>\n",
       "    <tr>\n",
       "      <th>2</th>\n",
       "      <td>3</td>\n",
       "      <td>1</td>\n",
       "      <td>0</td>\n",
       "      <td>26.0</td>\n",
       "      <td>0</td>\n",
       "      <td>7.9250</td>\n",
       "      <td>0</td>\n",
       "      <td>1</td>\n",
       "      <td>1</td>\n",
       "    </tr>\n",
       "    <tr>\n",
       "      <th>3</th>\n",
       "      <td>1</td>\n",
       "      <td>1</td>\n",
       "      <td>1</td>\n",
       "      <td>35.0</td>\n",
       "      <td>0</td>\n",
       "      <td>53.1000</td>\n",
       "      <td>0</td>\n",
       "      <td>1</td>\n",
       "      <td>2</td>\n",
       "    </tr>\n",
       "    <tr>\n",
       "      <th>4</th>\n",
       "      <td>3</td>\n",
       "      <td>0</td>\n",
       "      <td>0</td>\n",
       "      <td>35.0</td>\n",
       "      <td>0</td>\n",
       "      <td>8.0500</td>\n",
       "      <td>0</td>\n",
       "      <td>0</td>\n",
       "      <td>1</td>\n",
       "    </tr>\n",
       "  </tbody>\n",
       "</table>\n",
       "</div>"
      ],
      "text/plain": [
       "   Pclass  Sex  SibSp   Age  Parch     Fare  Embarked  Survived  Family_Size\n",
       "0       3    0      1  22.0      0   7.2500         0         0            2\n",
       "1       1    1      1  38.0      0  71.2833         1         1            2\n",
       "2       3    1      0  26.0      0   7.9250         0         1            1\n",
       "3       1    1      1  35.0      0  53.1000         0         1            2\n",
       "4       3    0      0  35.0      0   8.0500         0         0            1"
      ]
     },
     "execution_count": 29,
     "metadata": {},
     "output_type": "execute_result"
    }
   ],
   "source": [
    "#train_df final\n",
    "train_df.head()"
   ]
  },
  {
   "cell_type": "code",
   "execution_count": 30,
   "id": "20ed477a",
   "metadata": {
    "execution": {
     "iopub.execute_input": "2021-10-26T13:07:29.849496Z",
     "iopub.status.busy": "2021-10-26T13:07:29.848702Z",
     "iopub.status.idle": "2021-10-26T13:07:29.858785Z",
     "shell.execute_reply": "2021-10-26T13:07:29.859399Z",
     "shell.execute_reply.started": "2021-10-26T12:51:48.522531Z"
    },
    "papermill": {
     "duration": 0.080657,
     "end_time": "2021-10-26T13:07:29.859601",
     "exception": false,
     "start_time": "2021-10-26T13:07:29.778944",
     "status": "completed"
    },
    "tags": []
   },
   "outputs": [
    {
     "data": {
      "text/html": [
       "<div>\n",
       "<style scoped>\n",
       "    .dataframe tbody tr th:only-of-type {\n",
       "        vertical-align: middle;\n",
       "    }\n",
       "\n",
       "    .dataframe tbody tr th {\n",
       "        vertical-align: top;\n",
       "    }\n",
       "\n",
       "    .dataframe thead th {\n",
       "        text-align: right;\n",
       "    }\n",
       "</style>\n",
       "<table border=\"1\" class=\"dataframe\">\n",
       "  <thead>\n",
       "    <tr style=\"text-align: right;\">\n",
       "      <th></th>\n",
       "      <th>Survived</th>\n",
       "    </tr>\n",
       "  </thead>\n",
       "  <tbody>\n",
       "    <tr>\n",
       "      <th>Pclass</th>\n",
       "      <td>-0.338481</td>\n",
       "    </tr>\n",
       "    <tr>\n",
       "      <th>Sex</th>\n",
       "      <td>0.543351</td>\n",
       "    </tr>\n",
       "    <tr>\n",
       "      <th>SibSp</th>\n",
       "      <td>-0.035322</td>\n",
       "    </tr>\n",
       "    <tr>\n",
       "      <th>Age</th>\n",
       "      <td>-0.102539</td>\n",
       "    </tr>\n",
       "    <tr>\n",
       "      <th>Parch</th>\n",
       "      <td>0.081629</td>\n",
       "    </tr>\n",
       "    <tr>\n",
       "      <th>Fare</th>\n",
       "      <td>0.257307</td>\n",
       "    </tr>\n",
       "    <tr>\n",
       "      <th>Embarked</th>\n",
       "      <td>0.106811</td>\n",
       "    </tr>\n",
       "    <tr>\n",
       "      <th>Survived</th>\n",
       "      <td>1.000000</td>\n",
       "    </tr>\n",
       "    <tr>\n",
       "      <th>Family_Size</th>\n",
       "      <td>0.016639</td>\n",
       "    </tr>\n",
       "  </tbody>\n",
       "</table>\n",
       "</div>"
      ],
      "text/plain": [
       "             Survived\n",
       "Pclass      -0.338481\n",
       "Sex          0.543351\n",
       "SibSp       -0.035322\n",
       "Age         -0.102539\n",
       "Parch        0.081629\n",
       "Fare         0.257307\n",
       "Embarked     0.106811\n",
       "Survived     1.000000\n",
       "Family_Size  0.016639"
      ]
     },
     "execution_count": 30,
     "metadata": {},
     "output_type": "execute_result"
    }
   ],
   "source": [
    "train_df.corr()[['Survived']]"
   ]
  },
  {
   "cell_type": "markdown",
   "id": "cabbca44",
   "metadata": {
    "papermill": {
     "duration": 0.062164,
     "end_time": "2021-10-26T13:07:29.983041",
     "exception": false,
     "start_time": "2021-10-26T13:07:29.920877",
     "status": "completed"
    },
    "tags": []
   },
   "source": [
    "### test_df"
   ]
  },
  {
   "cell_type": "code",
   "execution_count": 31,
   "id": "493255bc",
   "metadata": {
    "execution": {
     "iopub.execute_input": "2021-10-26T13:07:30.106356Z",
     "iopub.status.busy": "2021-10-26T13:07:30.105584Z",
     "iopub.status.idle": "2021-10-26T13:07:30.118081Z",
     "shell.execute_reply": "2021-10-26T13:07:30.118893Z",
     "shell.execute_reply.started": "2021-10-26T12:51:48.541397Z"
    },
    "papermill": {
     "duration": 0.075948,
     "end_time": "2021-10-26T13:07:30.119131",
     "exception": false,
     "start_time": "2021-10-26T13:07:30.043183",
     "status": "completed"
    },
    "tags": []
   },
   "outputs": [
    {
     "name": "stdout",
     "output_type": "stream",
     "text": [
      "<class 'pandas.core.frame.DataFrame'>\n",
      "RangeIndex: 418 entries, 0 to 417\n",
      "Data columns (total 12 columns):\n",
      " #   Column       Non-Null Count  Dtype  \n",
      "---  ------       --------------  -----  \n",
      " 0   PassengerId  418 non-null    int64  \n",
      " 1   Pclass       418 non-null    int64  \n",
      " 2   Name         418 non-null    object \n",
      " 3   Sex          418 non-null    object \n",
      " 4   Age          332 non-null    float64\n",
      " 5   SibSp        418 non-null    int64  \n",
      " 6   Parch        418 non-null    int64  \n",
      " 7   Ticket       418 non-null    object \n",
      " 8   Fare         417 non-null    float64\n",
      " 9   Cabin        91 non-null     object \n",
      " 10  Embarked     418 non-null    object \n",
      " 11  Family_Size  418 non-null    int64  \n",
      "dtypes: float64(2), int64(5), object(5)\n",
      "memory usage: 39.3+ KB\n"
     ]
    }
   ],
   "source": [
    "test_df.info()"
   ]
  },
  {
   "cell_type": "markdown",
   "id": "894c9a19",
   "metadata": {
    "papermill": {
     "duration": 0.059488,
     "end_time": "2021-10-26T13:07:30.240253",
     "exception": false,
     "start_time": "2021-10-26T13:07:30.180765",
     "status": "completed"
    },
    "tags": []
   },
   "source": [
    "Com o info é possível observar:\n",
    "\n",
    "* Coluna Age com dados nulos\n",
    "* Coluna Cabin com dados nulos\n",
    "* Coluna Fare com dados nulos"
   ]
  },
  {
   "cell_type": "code",
   "execution_count": 32,
   "id": "d167d6e9",
   "metadata": {
    "execution": {
     "iopub.execute_input": "2021-10-26T13:07:30.363762Z",
     "iopub.status.busy": "2021-10-26T13:07:30.363049Z",
     "iopub.status.idle": "2021-10-26T13:07:30.367062Z",
     "shell.execute_reply": "2021-10-26T13:07:30.367552Z",
     "shell.execute_reply.started": "2021-10-26T12:51:48.557592Z"
    },
    "papermill": {
     "duration": 0.067581,
     "end_time": "2021-10-26T13:07:30.367756",
     "exception": false,
     "start_time": "2021-10-26T13:07:30.300175",
     "status": "completed"
    },
    "tags": []
   },
   "outputs": [],
   "source": [
    "# Trocar dados nulos da coluna Fare por 1000\n",
    "test_df['Fare'] = test_df['Fare'].replace(np.nan, 1000)"
   ]
  },
  {
   "cell_type": "code",
   "execution_count": 33,
   "id": "ac8966d6",
   "metadata": {
    "execution": {
     "iopub.execute_input": "2021-10-26T13:07:30.493936Z",
     "iopub.status.busy": "2021-10-26T13:07:30.493255Z",
     "iopub.status.idle": "2021-10-26T13:07:30.502506Z",
     "shell.execute_reply": "2021-10-26T13:07:30.502987Z",
     "shell.execute_reply.started": "2021-10-26T12:51:48.565752Z"
    },
    "papermill": {
     "duration": 0.074345,
     "end_time": "2021-10-26T13:07:30.503170",
     "exception": false,
     "start_time": "2021-10-26T13:07:30.428825",
     "status": "completed"
    },
    "tags": []
   },
   "outputs": [
    {
     "data": {
      "text/plain": [
       "array([  7.8292    ,   7.        ,   9.6875    ,   8.6625    ,\n",
       "        12.2875    ,   9.225     ,   7.6292    ,  29.        ,\n",
       "         7.2292    ,  24.15      ,   7.8958    ,  26.        ,\n",
       "        82.2667    ,  61.175     ,  27.7208    ,  12.35      ,\n",
       "         7.225     ,   7.925     ,  59.4       ,   3.1708    ,\n",
       "        31.6833    ,  61.3792    , 262.375     ,  14.5       ,\n",
       "        61.9792    ,  30.5       ,  21.6792    ,  31.5       ,\n",
       "        20.575     ,  23.45      ,  57.75      ,   8.05      ,\n",
       "         9.5       ,  56.4958    ,  13.4167    ,  26.55      ,\n",
       "         7.85      ,  13.        ,  52.5542    ,  29.7       ,\n",
       "         7.75      ,  76.2917    ,  15.9       ,  60.        ,\n",
       "        15.0333    ,  23.        , 263.        ,  15.5792    ,\n",
       "        29.125     ,   7.65      ,  16.1       ,  13.5       ,\n",
       "         7.725     ,  21.        ,   7.8792    ,  42.4       ,\n",
       "        28.5375    , 211.5       ,  25.7       ,  15.2458    ,\n",
       "       221.7792    ,  10.7083    ,  14.4542    ,  13.9       ,\n",
       "         7.775     ,  52.        ,   7.7958    ,  78.85      ,\n",
       "         7.8542    ,  55.4417    ,   8.5167    ,  22.525     ,\n",
       "         7.8208    ,   8.7125    ,  15.0458    ,   7.7792    ,\n",
       "        31.6792    ,   7.2833    ,   6.4375    ,  16.7       ,\n",
       "        75.2417    ,  15.75      ,   7.25      ,  23.25      ,\n",
       "        28.5       ,  25.4667    ,  46.9       , 151.55      ,\n",
       "        18.        ,  51.8625    ,  83.1583    ,  37.93430048,\n",
       "        12.1833    ,  31.3875    ,   7.55      ,  13.775     ,\n",
       "         7.7333    ,  22.025     ,  50.4958    ,  34.375     ,\n",
       "         8.9625    ,  39.        ,  36.75      ,  53.1       ,\n",
       "       247.5208    ,  16.        ,  69.55      ,  32.5       ,\n",
       "       134.5       ,  10.5       ,   8.1125    ,  15.5       ,\n",
       "        14.4       , 227.525     ,  25.7417    ,   7.05      ,\n",
       "        73.5       ,  42.5       , 164.8667    ,  13.8583    ,\n",
       "        27.4458    ,  15.1       ,  65.        ,   6.4958    ,\n",
       "        71.2833    ,  75.25      , 106.425     ,  30.        ,\n",
       "         7.8875    ,  27.75      , 136.7792    ,   9.325     ,\n",
       "        17.4       ,  12.7375    ,   0.        ,  20.2125    ,\n",
       "        39.6       ,   6.95      ,  81.8583    ,  41.5792    ,\n",
       "        45.5       ,   9.35      ,  93.5       ,  14.1083    ,\n",
       "         7.575     , 135.6333    , 146.5208    , 211.3375    ,\n",
       "        79.2       ,  15.7417    ,   7.5792    , 512.3292    ,\n",
       "        63.3583    ,  51.4792    ,  15.55      ,  37.0042    ,\n",
       "        14.4583    ,  39.6875    ,  11.5       ,  50.        ,\n",
       "        12.875     ,  21.075     ,  39.4       ,  20.25      ,\n",
       "        47.1       ,  13.8625    ,   7.7208    ,  90.        ,\n",
       "       108.9       ,  22.3583    ])"
      ]
     },
     "execution_count": 33,
     "metadata": {},
     "output_type": "execute_result"
    }
   ],
   "source": [
    "#média coluna Fare\n",
    "mean_fare_test = test_df['Fare'].mean()\n",
    "#Substituir '1000' pela média\n",
    "test_df['Fare'] = test_df['Fare'].replace(1000, mean_fare_test)\n",
    "test_df['Fare'].unique()"
   ]
  },
  {
   "cell_type": "code",
   "execution_count": 34,
   "id": "9792edc9",
   "metadata": {
    "execution": {
     "iopub.execute_input": "2021-10-26T13:07:30.630012Z",
     "iopub.status.busy": "2021-10-26T13:07:30.629251Z",
     "iopub.status.idle": "2021-10-26T13:07:30.631070Z",
     "shell.execute_reply": "2021-10-26T13:07:30.631536Z",
     "shell.execute_reply.started": "2021-10-26T12:51:48.583156Z"
    },
    "papermill": {
     "duration": 0.068169,
     "end_time": "2021-10-26T13:07:30.631725",
     "exception": false,
     "start_time": "2021-10-26T13:07:30.563556",
     "status": "completed"
    },
    "tags": []
   },
   "outputs": [],
   "source": [
    "# Trocar dados nulos da coluna Age por 1000\n",
    "test_df['Age'] = test_df['Age'].replace(np.nan, 1000)"
   ]
  },
  {
   "cell_type": "code",
   "execution_count": 35,
   "id": "0a7cbe51",
   "metadata": {
    "execution": {
     "iopub.execute_input": "2021-10-26T13:07:30.761649Z",
     "iopub.status.busy": "2021-10-26T13:07:30.755872Z",
     "iopub.status.idle": "2021-10-26T13:07:30.764750Z",
     "shell.execute_reply": "2021-10-26T13:07:30.765391Z",
     "shell.execute_reply.started": "2021-10-26T12:51:48.590943Z"
    },
    "papermill": {
     "duration": 0.073311,
     "end_time": "2021-10-26T13:07:30.765585",
     "exception": false,
     "start_time": "2021-10-26T13:07:30.692274",
     "status": "completed"
    },
    "tags": []
   },
   "outputs": [
    {
     "data": {
      "text/plain": [
       "array([3.45000000e+01, 4.70000000e+01, 6.20000000e+01, 2.70000000e+01,\n",
       "       2.20000000e+01, 1.40000000e+01, 3.00000000e+01, 2.60000000e+01,\n",
       "       1.80000000e+01, 2.10000000e+01, 2.29785885e+02, 4.60000000e+01,\n",
       "       2.30000000e+01, 6.30000000e+01, 2.40000000e+01, 3.50000000e+01,\n",
       "       4.50000000e+01, 5.50000000e+01, 9.00000000e+00, 4.80000000e+01,\n",
       "       5.00000000e+01, 2.25000000e+01, 4.10000000e+01, 3.30000000e+01,\n",
       "       1.85000000e+01, 2.50000000e+01, 3.90000000e+01, 6.00000000e+01,\n",
       "       3.60000000e+01, 2.00000000e+01, 2.80000000e+01, 1.00000000e+01,\n",
       "       1.70000000e+01, 3.20000000e+01, 1.30000000e+01, 3.10000000e+01,\n",
       "       2.90000000e+01, 2.85000000e+01, 3.25000000e+01, 6.00000000e+00,\n",
       "       6.70000000e+01, 4.90000000e+01, 2.00000000e+00, 7.60000000e+01,\n",
       "       4.30000000e+01, 1.60000000e+01, 1.00000000e+00, 1.20000000e+01,\n",
       "       4.20000000e+01, 5.30000000e+01, 2.65000000e+01, 4.00000000e+01,\n",
       "       6.10000000e+01, 6.05000000e+01, 7.00000000e+00, 1.50000000e+01,\n",
       "       5.40000000e+01, 6.40000000e+01, 3.70000000e+01, 3.40000000e+01,\n",
       "       1.15000000e+01, 8.00000000e+00, 3.30000000e-01, 3.80000000e+01,\n",
       "       5.70000000e+01, 4.05000000e+01, 9.20000000e-01, 1.90000000e+01,\n",
       "       3.65000000e+01, 7.50000000e-01, 8.30000000e-01, 5.80000000e+01,\n",
       "       1.70000000e-01, 5.90000000e+01, 1.45000000e+01, 4.40000000e+01,\n",
       "       5.00000000e+00, 5.10000000e+01, 3.00000000e+00, 3.85000000e+01])"
      ]
     },
     "execution_count": 35,
     "metadata": {},
     "output_type": "execute_result"
    }
   ],
   "source": [
    "#média coluna Age\n",
    "mean_age_test = test_df['Age'].mean()\n",
    "#Substituir '1000' pela média\n",
    "test_df['Age'] = test_df['Age'].replace(1000, mean_age_test)\n",
    "test_df['Age'].unique()"
   ]
  },
  {
   "cell_type": "code",
   "execution_count": 36,
   "id": "a6a6d537",
   "metadata": {
    "execution": {
     "iopub.execute_input": "2021-10-26T13:07:30.891732Z",
     "iopub.status.busy": "2021-10-26T13:07:30.890686Z",
     "iopub.status.idle": "2021-10-26T13:07:30.903537Z",
     "shell.execute_reply": "2021-10-26T13:07:30.904066Z",
     "shell.execute_reply.started": "2021-10-26T12:51:48.611722Z"
    },
    "papermill": {
     "duration": 0.077023,
     "end_time": "2021-10-26T13:07:30.904240",
     "exception": false,
     "start_time": "2021-10-26T13:07:30.827217",
     "status": "completed"
    },
    "tags": []
   },
   "outputs": [
    {
     "name": "stdout",
     "output_type": "stream",
     "text": [
      "<class 'pandas.core.frame.DataFrame'>\n",
      "RangeIndex: 418 entries, 0 to 417\n",
      "Data columns (total 12 columns):\n",
      " #   Column       Non-Null Count  Dtype  \n",
      "---  ------       --------------  -----  \n",
      " 0   PassengerId  418 non-null    int64  \n",
      " 1   Pclass       418 non-null    int64  \n",
      " 2   Name         418 non-null    object \n",
      " 3   Sex          418 non-null    object \n",
      " 4   Age          418 non-null    float64\n",
      " 5   SibSp        418 non-null    int64  \n",
      " 6   Parch        418 non-null    int64  \n",
      " 7   Ticket       418 non-null    object \n",
      " 8   Fare         418 non-null    float64\n",
      " 9   Cabin        91 non-null     object \n",
      " 10  Embarked     418 non-null    object \n",
      " 11  Family_Size  418 non-null    int64  \n",
      "dtypes: float64(2), int64(5), object(5)\n",
      "memory usage: 39.3+ KB\n"
     ]
    }
   ],
   "source": [
    "test_df.info()"
   ]
  },
  {
   "cell_type": "code",
   "execution_count": 37,
   "id": "fcdbefb2",
   "metadata": {
    "execution": {
     "iopub.execute_input": "2021-10-26T13:07:31.033937Z",
     "iopub.status.busy": "2021-10-26T13:07:31.032927Z",
     "iopub.status.idle": "2021-10-26T13:07:31.048282Z",
     "shell.execute_reply": "2021-10-26T13:07:31.048814Z",
     "shell.execute_reply.started": "2021-10-26T12:51:48.628425Z"
    },
    "papermill": {
     "duration": 0.081241,
     "end_time": "2021-10-26T13:07:31.048984",
     "exception": false,
     "start_time": "2021-10-26T13:07:30.967743",
     "status": "completed"
    },
    "tags": []
   },
   "outputs": [
    {
     "data": {
      "text/html": [
       "<div>\n",
       "<style scoped>\n",
       "    .dataframe tbody tr th:only-of-type {\n",
       "        vertical-align: middle;\n",
       "    }\n",
       "\n",
       "    .dataframe tbody tr th {\n",
       "        vertical-align: top;\n",
       "    }\n",
       "\n",
       "    .dataframe thead th {\n",
       "        text-align: right;\n",
       "    }\n",
       "</style>\n",
       "<table border=\"1\" class=\"dataframe\">\n",
       "  <thead>\n",
       "    <tr style=\"text-align: right;\">\n",
       "      <th></th>\n",
       "      <th>Pclass</th>\n",
       "      <th>Sex</th>\n",
       "      <th>SibSp</th>\n",
       "      <th>Age</th>\n",
       "      <th>Parch</th>\n",
       "      <th>Fare</th>\n",
       "      <th>Embarked</th>\n",
       "      <th>Family_Size</th>\n",
       "    </tr>\n",
       "  </thead>\n",
       "  <tbody>\n",
       "    <tr>\n",
       "      <th>0</th>\n",
       "      <td>3</td>\n",
       "      <td>male</td>\n",
       "      <td>0</td>\n",
       "      <td>34.5</td>\n",
       "      <td>0</td>\n",
       "      <td>7.8292</td>\n",
       "      <td>Q</td>\n",
       "      <td>1</td>\n",
       "    </tr>\n",
       "    <tr>\n",
       "      <th>1</th>\n",
       "      <td>3</td>\n",
       "      <td>female</td>\n",
       "      <td>1</td>\n",
       "      <td>47.0</td>\n",
       "      <td>0</td>\n",
       "      <td>7.0000</td>\n",
       "      <td>S</td>\n",
       "      <td>2</td>\n",
       "    </tr>\n",
       "    <tr>\n",
       "      <th>2</th>\n",
       "      <td>2</td>\n",
       "      <td>male</td>\n",
       "      <td>0</td>\n",
       "      <td>62.0</td>\n",
       "      <td>0</td>\n",
       "      <td>9.6875</td>\n",
       "      <td>Q</td>\n",
       "      <td>1</td>\n",
       "    </tr>\n",
       "    <tr>\n",
       "      <th>3</th>\n",
       "      <td>3</td>\n",
       "      <td>male</td>\n",
       "      <td>0</td>\n",
       "      <td>27.0</td>\n",
       "      <td>0</td>\n",
       "      <td>8.6625</td>\n",
       "      <td>S</td>\n",
       "      <td>1</td>\n",
       "    </tr>\n",
       "    <tr>\n",
       "      <th>4</th>\n",
       "      <td>3</td>\n",
       "      <td>female</td>\n",
       "      <td>1</td>\n",
       "      <td>22.0</td>\n",
       "      <td>1</td>\n",
       "      <td>12.2875</td>\n",
       "      <td>S</td>\n",
       "      <td>3</td>\n",
       "    </tr>\n",
       "  </tbody>\n",
       "</table>\n",
       "</div>"
      ],
      "text/plain": [
       "   Pclass     Sex  SibSp   Age  Parch     Fare Embarked  Family_Size\n",
       "0       3    male      0  34.5      0   7.8292        Q            1\n",
       "1       3  female      1  47.0      0   7.0000        S            2\n",
       "2       2    male      0  62.0      0   9.6875        Q            1\n",
       "3       3    male      0  27.0      0   8.6625        S            1\n",
       "4       3  female      1  22.0      1  12.2875        S            3"
      ]
     },
     "execution_count": 37,
     "metadata": {},
     "output_type": "execute_result"
    }
   ],
   "source": [
    "#Dados de teste sem as colunas 'Cabin', 'Name' e 'PassengerId'\n",
    "test_df = test_df[['Pclass','Sex','SibSp','Age','Parch','Fare','Embarked','Family_Size']]\n",
    "test_df.head()"
   ]
  },
  {
   "cell_type": "code",
   "execution_count": 38,
   "id": "4de5b3ca",
   "metadata": {
    "execution": {
     "iopub.execute_input": "2021-10-26T13:07:31.180299Z",
     "iopub.status.busy": "2021-10-26T13:07:31.176191Z",
     "iopub.status.idle": "2021-10-26T13:07:31.182918Z",
     "shell.execute_reply": "2021-10-26T13:07:31.183405Z",
     "shell.execute_reply.started": "2021-10-26T12:51:48.653813Z"
    },
    "papermill": {
     "duration": 0.072867,
     "end_time": "2021-10-26T13:07:31.183622",
     "exception": false,
     "start_time": "2021-10-26T13:07:31.110755",
     "status": "completed"
    },
    "tags": []
   },
   "outputs": [],
   "source": [
    "#Transformando colunas 'Sex' e 'Embarked' em numéricas\n",
    "test_df['Sex'], Sex_test = test_df['Sex'].factorize()\n",
    "test_df['Embarked'], Embarked_test = test_df['Embarked'].factorize()"
   ]
  },
  {
   "cell_type": "code",
   "execution_count": 39,
   "id": "b0cf096f",
   "metadata": {
    "execution": {
     "iopub.execute_input": "2021-10-26T13:07:31.321122Z",
     "iopub.status.busy": "2021-10-26T13:07:31.320209Z",
     "iopub.status.idle": "2021-10-26T13:07:31.323687Z",
     "shell.execute_reply": "2021-10-26T13:07:31.324203Z",
     "shell.execute_reply.started": "2021-10-26T12:51:48.664649Z"
    },
    "papermill": {
     "duration": 0.079023,
     "end_time": "2021-10-26T13:07:31.324376",
     "exception": false,
     "start_time": "2021-10-26T13:07:31.245353",
     "status": "completed"
    },
    "tags": []
   },
   "outputs": [
    {
     "data": {
      "text/html": [
       "<div>\n",
       "<style scoped>\n",
       "    .dataframe tbody tr th:only-of-type {\n",
       "        vertical-align: middle;\n",
       "    }\n",
       "\n",
       "    .dataframe tbody tr th {\n",
       "        vertical-align: top;\n",
       "    }\n",
       "\n",
       "    .dataframe thead th {\n",
       "        text-align: right;\n",
       "    }\n",
       "</style>\n",
       "<table border=\"1\" class=\"dataframe\">\n",
       "  <thead>\n",
       "    <tr style=\"text-align: right;\">\n",
       "      <th></th>\n",
       "      <th>Pclass</th>\n",
       "      <th>Sex</th>\n",
       "      <th>SibSp</th>\n",
       "      <th>Age</th>\n",
       "      <th>Parch</th>\n",
       "      <th>Fare</th>\n",
       "      <th>Embarked</th>\n",
       "      <th>Family_Size</th>\n",
       "    </tr>\n",
       "  </thead>\n",
       "  <tbody>\n",
       "    <tr>\n",
       "      <th>0</th>\n",
       "      <td>3</td>\n",
       "      <td>0</td>\n",
       "      <td>0</td>\n",
       "      <td>34.5</td>\n",
       "      <td>0</td>\n",
       "      <td>7.8292</td>\n",
       "      <td>0</td>\n",
       "      <td>1</td>\n",
       "    </tr>\n",
       "    <tr>\n",
       "      <th>1</th>\n",
       "      <td>3</td>\n",
       "      <td>1</td>\n",
       "      <td>1</td>\n",
       "      <td>47.0</td>\n",
       "      <td>0</td>\n",
       "      <td>7.0000</td>\n",
       "      <td>1</td>\n",
       "      <td>2</td>\n",
       "    </tr>\n",
       "    <tr>\n",
       "      <th>2</th>\n",
       "      <td>2</td>\n",
       "      <td>0</td>\n",
       "      <td>0</td>\n",
       "      <td>62.0</td>\n",
       "      <td>0</td>\n",
       "      <td>9.6875</td>\n",
       "      <td>0</td>\n",
       "      <td>1</td>\n",
       "    </tr>\n",
       "    <tr>\n",
       "      <th>3</th>\n",
       "      <td>3</td>\n",
       "      <td>0</td>\n",
       "      <td>0</td>\n",
       "      <td>27.0</td>\n",
       "      <td>0</td>\n",
       "      <td>8.6625</td>\n",
       "      <td>1</td>\n",
       "      <td>1</td>\n",
       "    </tr>\n",
       "    <tr>\n",
       "      <th>4</th>\n",
       "      <td>3</td>\n",
       "      <td>1</td>\n",
       "      <td>1</td>\n",
       "      <td>22.0</td>\n",
       "      <td>1</td>\n",
       "      <td>12.2875</td>\n",
       "      <td>1</td>\n",
       "      <td>3</td>\n",
       "    </tr>\n",
       "  </tbody>\n",
       "</table>\n",
       "</div>"
      ],
      "text/plain": [
       "   Pclass  Sex  SibSp   Age  Parch     Fare  Embarked  Family_Size\n",
       "0       3    0      0  34.5      0   7.8292         0            1\n",
       "1       3    1      1  47.0      0   7.0000         1            2\n",
       "2       2    0      0  62.0      0   9.6875         0            1\n",
       "3       3    0      0  27.0      0   8.6625         1            1\n",
       "4       3    1      1  22.0      1  12.2875         1            3"
      ]
     },
     "execution_count": 39,
     "metadata": {},
     "output_type": "execute_result"
    }
   ],
   "source": [
    "#test_df final\n",
    "test_df.head()"
   ]
  },
  {
   "cell_type": "markdown",
   "id": "47ba9d40",
   "metadata": {
    "papermill": {
     "duration": 0.062104,
     "end_time": "2021-10-26T13:07:31.450671",
     "exception": false,
     "start_time": "2021-10-26T13:07:31.388567",
     "status": "completed"
    },
    "tags": []
   },
   "source": [
    "## Modelo"
   ]
  },
  {
   "cell_type": "markdown",
   "id": "bf58a874",
   "metadata": {
    "papermill": {
     "duration": 0.061725,
     "end_time": "2021-10-26T13:07:31.575483",
     "exception": false,
     "start_time": "2021-10-26T13:07:31.513758",
     "status": "completed"
    },
    "tags": []
   },
   "source": [
    "Divisão das features e target."
   ]
  },
  {
   "cell_type": "code",
   "execution_count": 40,
   "id": "38134fbb",
   "metadata": {
    "execution": {
     "iopub.execute_input": "2021-10-26T13:07:31.707266Z",
     "iopub.status.busy": "2021-10-26T13:07:31.706348Z",
     "iopub.status.idle": "2021-10-26T13:07:31.709238Z",
     "shell.execute_reply": "2021-10-26T13:07:31.708599Z",
     "shell.execute_reply.started": "2021-10-26T12:51:48.683965Z"
    },
    "papermill": {
     "duration": 0.07213,
     "end_time": "2021-10-26T13:07:31.709441",
     "exception": false,
     "start_time": "2021-10-26T13:07:31.637311",
     "status": "completed"
    },
    "tags": []
   },
   "outputs": [],
   "source": [
    "#features\n",
    "X = train_df.drop('Survived',axis = 1)\n",
    "#target\n",
    "y = train_df['Survived']"
   ]
  },
  {
   "cell_type": "markdown",
   "id": "765d7fa2",
   "metadata": {
    "papermill": {
     "duration": 0.063961,
     "end_time": "2021-10-26T13:07:31.836685",
     "exception": false,
     "start_time": "2021-10-26T13:07:31.772724",
     "status": "completed"
    },
    "tags": []
   },
   "source": [
    "Divisão dos dados de treinamento e teste, 70% treino e 30 % teste."
   ]
  },
  {
   "cell_type": "code",
   "execution_count": 41,
   "id": "7bcfbbc7",
   "metadata": {
    "execution": {
     "iopub.execute_input": "2021-10-26T13:07:31.969092Z",
     "iopub.status.busy": "2021-10-26T13:07:31.965402Z",
     "iopub.status.idle": "2021-10-26T13:07:31.972135Z",
     "shell.execute_reply": "2021-10-26T13:07:31.972775Z",
     "shell.execute_reply.started": "2021-10-26T12:51:48.693031Z"
    },
    "papermill": {
     "duration": 0.073829,
     "end_time": "2021-10-26T13:07:31.972966",
     "exception": false,
     "start_time": "2021-10-26T13:07:31.899137",
     "status": "completed"
    },
    "tags": []
   },
   "outputs": [],
   "source": [
    "X_train, X_test, y_train, y_test = train_test_split(X,y,test_size = 0.3)"
   ]
  },
  {
   "cell_type": "code",
   "execution_count": 42,
   "id": "ffeecf44",
   "metadata": {
    "execution": {
     "iopub.execute_input": "2021-10-26T13:07:32.104979Z",
     "iopub.status.busy": "2021-10-26T13:07:32.103996Z",
     "iopub.status.idle": "2021-10-26T13:07:32.107459Z",
     "shell.execute_reply": "2021-10-26T13:07:32.107918Z",
     "shell.execute_reply.started": "2021-10-26T12:51:48.708142Z"
    },
    "papermill": {
     "duration": 0.069579,
     "end_time": "2021-10-26T13:07:32.108096",
     "exception": false,
     "start_time": "2021-10-26T13:07:32.038517",
     "status": "completed"
    },
    "tags": []
   },
   "outputs": [],
   "source": [
    "#X final para submissão da competição\n",
    "X_test_final = test_df"
   ]
  },
  {
   "cell_type": "code",
   "execution_count": 43,
   "id": "c11b7b33",
   "metadata": {
    "execution": {
     "iopub.execute_input": "2021-10-26T13:07:32.236710Z",
     "iopub.status.busy": "2021-10-26T13:07:32.235694Z",
     "iopub.status.idle": "2021-10-26T13:07:32.239554Z",
     "shell.execute_reply": "2021-10-26T13:07:32.240041Z",
     "shell.execute_reply.started": "2021-10-26T12:51:48.724405Z"
    },
    "papermill": {
     "duration": 0.070093,
     "end_time": "2021-10-26T13:07:32.240242",
     "exception": false,
     "start_time": "2021-10-26T13:07:32.170149",
     "status": "completed"
    },
    "tags": []
   },
   "outputs": [],
   "source": [
    "#Random Forest\n",
    "RF = RandomForestClassifier(random_state = 1)"
   ]
  },
  {
   "cell_type": "markdown",
   "id": "0119055b",
   "metadata": {
    "papermill": {
     "duration": 0.062518,
     "end_time": "2021-10-26T13:07:32.369193",
     "exception": false,
     "start_time": "2021-10-26T13:07:32.306675",
     "status": "completed"
    },
    "tags": []
   },
   "source": [
    "Método grid, para achar os melhores parâmetros paro o modelo."
   ]
  },
  {
   "cell_type": "code",
   "execution_count": 44,
   "id": "25e8f190",
   "metadata": {
    "execution": {
     "iopub.execute_input": "2021-10-26T13:07:32.500491Z",
     "iopub.status.busy": "2021-10-26T13:07:32.499475Z",
     "iopub.status.idle": "2021-10-26T13:14:04.706850Z",
     "shell.execute_reply": "2021-10-26T13:14:04.707472Z",
     "shell.execute_reply.started": "2021-10-26T12:51:48.735999Z"
    },
    "papermill": {
     "duration": 392.275797,
     "end_time": "2021-10-26T13:14:04.707849",
     "exception": false,
     "start_time": "2021-10-26T13:07:32.432052",
     "status": "completed"
    },
    "tags": []
   },
   "outputs": [
    {
     "data": {
      "text/plain": [
       "{'max_depth': 11,\n",
       " 'max_features': 1,\n",
       " 'min_samples_leaf': 1,\n",
       " 'min_samples_split': 5,\n",
       " 'n_estimators': 100,\n",
       " 'random_state': 1}"
      ]
     },
     "execution_count": 44,
     "metadata": {},
     "output_type": "execute_result"
    }
   ],
   "source": [
    "# Parâmetros testados\n",
    "rf_params = {'random_state': [1],\n",
    "             'max_depth': [7, 8, 9, 10, 11, 12],\n",
    "             'max_features': [1,3,6],\n",
    "             'min_samples_leaf': [1, 2],\n",
    "             'min_samples_split': [2, 5, 10],\n",
    "             'n_estimators': [100,300]}\n",
    "\n",
    "#Grid\n",
    "grid = GridSearchCV(RF, \n",
    "                    rf_params,\n",
    "                    cv = 10,   \n",
    "                    n_jobs = -1)\n",
    "\n",
    "grid.fit(X_train, y_train)\n",
    "\n",
    "#Parâmetros do melhor modelo\n",
    "grid.best_params_"
   ]
  },
  {
   "cell_type": "code",
   "execution_count": 45,
   "id": "e441c512",
   "metadata": {
    "execution": {
     "iopub.execute_input": "2021-10-26T13:14:04.841970Z",
     "iopub.status.busy": "2021-10-26T13:14:04.840935Z",
     "iopub.status.idle": "2021-10-26T13:14:04.845329Z",
     "shell.execute_reply": "2021-10-26T13:14:04.845961Z",
     "shell.execute_reply.started": "2021-10-26T12:58:53.714135Z"
    },
    "papermill": {
     "duration": 0.073198,
     "end_time": "2021-10-26T13:14:04.846155",
     "exception": false,
     "start_time": "2021-10-26T13:14:04.772957",
     "status": "completed"
    },
    "tags": []
   },
   "outputs": [],
   "source": [
    "#melhor modelo\n",
    "model = RandomForestClassifier(**grid.best_params_)"
   ]
  },
  {
   "cell_type": "code",
   "execution_count": 46,
   "id": "d8fdb237",
   "metadata": {
    "execution": {
     "iopub.execute_input": "2021-10-26T13:14:04.976707Z",
     "iopub.status.busy": "2021-10-26T13:14:04.975948Z",
     "iopub.status.idle": "2021-10-26T13:14:05.193569Z",
     "shell.execute_reply": "2021-10-26T13:14:05.192817Z",
     "shell.execute_reply.started": "2021-10-26T12:58:53.720159Z"
    },
    "papermill": {
     "duration": 0.284996,
     "end_time": "2021-10-26T13:14:05.193776",
     "exception": false,
     "start_time": "2021-10-26T13:14:04.908780",
     "status": "completed"
    },
    "tags": []
   },
   "outputs": [
    {
     "data": {
      "text/plain": [
       "RandomForestClassifier(max_depth=11, max_features=1, min_samples_split=5,\n",
       "                       random_state=1)"
      ]
     },
     "execution_count": 46,
     "metadata": {},
     "output_type": "execute_result"
    }
   ],
   "source": [
    "#treino\n",
    "model.fit(X_train, y_train)"
   ]
  },
  {
   "cell_type": "code",
   "execution_count": 47,
   "id": "d419401c",
   "metadata": {
    "execution": {
     "iopub.execute_input": "2021-10-26T13:14:05.323872Z",
     "iopub.status.busy": "2021-10-26T13:14:05.323198Z",
     "iopub.status.idle": "2021-10-26T13:14:05.344492Z",
     "shell.execute_reply": "2021-10-26T13:14:05.345021Z",
     "shell.execute_reply.started": "2021-10-26T12:58:53.962994Z"
    },
    "papermill": {
     "duration": 0.087132,
     "end_time": "2021-10-26T13:14:05.345209",
     "exception": false,
     "start_time": "2021-10-26T13:14:05.258077",
     "status": "completed"
    },
    "tags": []
   },
   "outputs": [
    {
     "data": {
      "text/plain": [
       "0.7873134328358209"
      ]
     },
     "execution_count": 47,
     "metadata": {},
     "output_type": "execute_result"
    }
   ],
   "source": [
    "#score\n",
    "model.score(X_test,y_test)"
   ]
  },
  {
   "cell_type": "code",
   "execution_count": 48,
   "id": "71fad32f",
   "metadata": {
    "execution": {
     "iopub.execute_input": "2021-10-26T13:14:05.476620Z",
     "iopub.status.busy": "2021-10-26T13:14:05.475925Z",
     "iopub.status.idle": "2021-10-26T13:14:07.751354Z",
     "shell.execute_reply": "2021-10-26T13:14:07.750796Z",
     "shell.execute_reply.started": "2021-10-26T12:58:53.993924Z"
    },
    "papermill": {
     "duration": 2.341979,
     "end_time": "2021-10-26T13:14:07.751521",
     "exception": false,
     "start_time": "2021-10-26T13:14:05.409542",
     "status": "completed"
    },
    "tags": []
   },
   "outputs": [
    {
     "data": {
      "text/plain": [
       "0.818289637952559"
      ]
     },
     "execution_count": 48,
     "metadata": {},
     "output_type": "execute_result"
    }
   ],
   "source": [
    "#Validação Cruzada\n",
    "scores = cross_val_score(model, X, y, cv=10)\n",
    "scores.mean()"
   ]
  },
  {
   "cell_type": "code",
   "execution_count": 49,
   "id": "5feb1f4f",
   "metadata": {
    "execution": {
     "iopub.execute_input": "2021-10-26T13:14:07.898081Z",
     "iopub.status.busy": "2021-10-26T13:14:07.897391Z",
     "iopub.status.idle": "2021-10-26T13:14:07.916308Z",
     "shell.execute_reply": "2021-10-26T13:14:07.915705Z",
     "shell.execute_reply.started": "2021-10-26T12:58:56.477851Z"
    },
    "papermill": {
     "duration": 0.095479,
     "end_time": "2021-10-26T13:14:07.916467",
     "exception": false,
     "start_time": "2021-10-26T13:14:07.820988",
     "status": "completed"
    },
    "tags": []
   },
   "outputs": [],
   "source": [
    "#Predição para submissão\n",
    "tree_pred = model.predict(X_test_final)"
   ]
  },
  {
   "cell_type": "code",
   "execution_count": 50,
   "id": "8948ce85",
   "metadata": {
    "execution": {
     "iopub.execute_input": "2021-10-26T13:14:08.050533Z",
     "iopub.status.busy": "2021-10-26T13:14:08.049851Z",
     "iopub.status.idle": "2021-10-26T13:14:08.069403Z",
     "shell.execute_reply": "2021-10-26T13:14:08.069951Z",
     "shell.execute_reply.started": "2021-10-26T12:58:56.507318Z"
    },
    "papermill": {
     "duration": 0.087028,
     "end_time": "2021-10-26T13:14:08.070125",
     "exception": false,
     "start_time": "2021-10-26T13:14:07.983097",
     "status": "completed"
    },
    "tags": []
   },
   "outputs": [
    {
     "data": {
      "text/html": [
       "<div>\n",
       "<style scoped>\n",
       "    .dataframe tbody tr th:only-of-type {\n",
       "        vertical-align: middle;\n",
       "    }\n",
       "\n",
       "    .dataframe tbody tr th {\n",
       "        vertical-align: top;\n",
       "    }\n",
       "\n",
       "    .dataframe thead th {\n",
       "        text-align: right;\n",
       "    }\n",
       "</style>\n",
       "<table border=\"1\" class=\"dataframe\">\n",
       "  <thead>\n",
       "    <tr style=\"text-align: right;\">\n",
       "      <th></th>\n",
       "      <th>PassengerId</th>\n",
       "      <th>Survived</th>\n",
       "    </tr>\n",
       "  </thead>\n",
       "  <tbody>\n",
       "    <tr>\n",
       "      <th>0</th>\n",
       "      <td>892</td>\n",
       "      <td>0</td>\n",
       "    </tr>\n",
       "    <tr>\n",
       "      <th>1</th>\n",
       "      <td>893</td>\n",
       "      <td>0</td>\n",
       "    </tr>\n",
       "    <tr>\n",
       "      <th>2</th>\n",
       "      <td>894</td>\n",
       "      <td>0</td>\n",
       "    </tr>\n",
       "    <tr>\n",
       "      <th>3</th>\n",
       "      <td>895</td>\n",
       "      <td>0</td>\n",
       "    </tr>\n",
       "    <tr>\n",
       "      <th>4</th>\n",
       "      <td>896</td>\n",
       "      <td>1</td>\n",
       "    </tr>\n",
       "    <tr>\n",
       "      <th>5</th>\n",
       "      <td>897</td>\n",
       "      <td>0</td>\n",
       "    </tr>\n",
       "    <tr>\n",
       "      <th>6</th>\n",
       "      <td>898</td>\n",
       "      <td>0</td>\n",
       "    </tr>\n",
       "    <tr>\n",
       "      <th>7</th>\n",
       "      <td>899</td>\n",
       "      <td>0</td>\n",
       "    </tr>\n",
       "    <tr>\n",
       "      <th>8</th>\n",
       "      <td>900</td>\n",
       "      <td>0</td>\n",
       "    </tr>\n",
       "    <tr>\n",
       "      <th>9</th>\n",
       "      <td>901</td>\n",
       "      <td>0</td>\n",
       "    </tr>\n",
       "  </tbody>\n",
       "</table>\n",
       "</div>"
      ],
      "text/plain": [
       "   PassengerId  Survived\n",
       "0          892         0\n",
       "1          893         0\n",
       "2          894         0\n",
       "3          895         0\n",
       "4          896         1\n",
       "5          897         0\n",
       "6          898         0\n",
       "7          899         0\n",
       "8          900         0\n",
       "9          901         0"
      ]
     },
     "execution_count": 50,
     "metadata": {},
     "output_type": "execute_result"
    }
   ],
   "source": [
    "#Submissão csv\n",
    "sub_df = pd.DataFrame(columns=['PassengerId', 'Survived'])\n",
    "sub_df['PassengerId'] = submission_df['PassengerId']\n",
    "sub_df['Survived'] = tree_pred\n",
    "sub_df.to_csv('submission.csv', header=True, index=False)\n",
    "sub_df.head(10)"
   ]
  }
 ],
 "metadata": {
  "kernelspec": {
   "display_name": "Python 3",
   "language": "python",
   "name": "python3"
  },
  "language_info": {
   "codemirror_mode": {
    "name": "ipython",
    "version": 3
   },
   "file_extension": ".py",
   "mimetype": "text/x-python",
   "name": "python",
   "nbconvert_exporter": "python",
   "pygments_lexer": "ipython3",
   "version": "3.7.10"
  },
  "papermill": {
   "default_parameters": {},
   "duration": 416.41239,
   "end_time": "2021-10-26T13:14:09.047531",
   "environment_variables": {},
   "exception": null,
   "input_path": "__notebook__.ipynb",
   "output_path": "__notebook__.ipynb",
   "parameters": {},
   "start_time": "2021-10-26T13:07:12.635141",
   "version": "2.3.3"
  }
 },
 "nbformat": 4,
 "nbformat_minor": 5
}
